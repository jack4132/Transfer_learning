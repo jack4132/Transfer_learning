{
  "nbformat": 4,
  "nbformat_minor": 0,
  "metadata": {
    "colab": {
      "name": "219515675_assignment2_solution.ipynb",
      "provenance": [],
      "collapsed_sections": [
        "twFQbltnm8da",
        "UaHLKDLas_dF",
        "C8cKfAOjpn7c"
      ],
      "machine_shape": "hm"
    },
    "kernelspec": {
      "name": "python3",
      "display_name": "Python 3"
    },
    "accelerator": "GPU"
  },
  "cells": [
    {
      "cell_type": "markdown",
      "metadata": {
        "id": "wjif_5FsdOFz"
      },
      "source": [
        "# SIT744 Assignment 2: Transfer learning and Efficient Training of Deep Learning Models \n",
        "\n",
        "<div class=\"alert-info\">\n",
        "    <p>Due: <strong>8:00pm 17 May 2021</strong>  (Monday)</p>\n",
        "\n",
        "This is an <strong>individual</strong> assignment. It contributes <strong>45%</strong> to your final mark. Read the assignment instruction carefully.\n",
        "\n",
        "<h2> What to submit </h2>\n",
        "\n",
        "<p>\n",
        "This assignment is to be completed individually and submitted to CloudDeakin. <strong>By the due date, you are required to submit the following files to the corresponding Assignment (Dropbox) in CloudDeakin</strong>:\n",
        "\n",
        "<ol>\n",
        "<li>\t<strong>[YourID]_assignment2_solution.ipynp</strong>:  This is your Python notebook solution source file. </li>\n",
        "<li>\t<strong>[YourID]_assingment2_output.html</strong>: This is the output of your Python notebook solution <emph>exported</emph> in HTML format.</li>\n",
        "<li>\tExtra files needed to complete your assignment, if any (e.g., images used in your answers).</li>\n",
        "</ol>\n",
        "</p>\n",
        "\n",
        "<p>\n",
        "For example, if your student ID is: 123456, you will then need to submit the following files:\n",
        "<ul>\n",
        "<li> 123456_assignment2_solution.ipynp </li>\n",
        "<li> 123456_assignment2_output.html</li>\n",
        "</ul>\n",
        "</p>\n",
        "\n",
        "<h2> Warning </h2>\n",
        "\n",
        "Some components of this assignment may involve heavy computation that runs for a long duration. Please start early to avoid missing the assignment due date.\n",
        "\n",
        "<h2> Marking criteria </h2>\n",
        "\n",
        "<p>\n",
        "Your submission will be marked using the following criteria.\n",
        "\n",
        "<ul>\n",
        "<li> Showing good effort through completed tasks.</li>\n",
        "<li> Applying deep learning theory to design suitable deep learning solutions for the tasks.</li>\n",
        "<li> Critically evaluating and reflecting on the pros and cons of various design decisions.</li>\n",
        "<li> Demonstrating creativity and resourcefulness in providing unique individual solutions.</li>\n",
        "<li> Showing attention to details through a good quality assignment report.</li>\n",
        "</ul>\n",
        "</p>\n",
        "\n",
        "<p>\n",
        "Indicative weights of various tasks are provided, but the assignment will be marked by the overall quality per the above criteria.\n",
        "</p>\n",
        "</div>"
      ]
    },
    {
      "cell_type": "markdown",
      "metadata": {
        "id": "twFQbltnm8da"
      },
      "source": [
        "## Assignment objective\n",
        "\n",
        "This assignment is to feedback on your learning in deep learning theory and its application to  data analytics or artificial intelligence problems.  \n",
        "\n",
        "It builds on Assignment 1 but requires a higher level of mastery of deep learning theory and programming/engineering skills. In particular, you will experience training a much deeper network on a large-scale dataset. You will encounter  practical issues that help you consolidate textbook learning. "
      ]
    },
    {
      "cell_type": "markdown",
      "metadata": {
        "id": "3ITc1hw_o7qV"
      },
      "source": [
        "## Task 1 Solving Fashion-MNIST with Convolutional Neural Networks\n",
        "\n",
        "*(weight ~15%)*\n",
        "\n",
        "In Assignment 1, you tackled the image classification problem in Fashion-MNIST. There, you used a Densely Connected Neural Network. You should now know that is not an optimal model architecture for the problem. In Assignment 2, you will apply the best practices of deep-learning computer vision to achieve better image classification performance."
      ]
    },
    {
      "cell_type": "markdown",
      "metadata": {
        "id": "zdHwmgwOpEfx"
      },
      "source": [
        "### Task 1.1 Revisit Fashion-MNIST classification with DNN\n",
        "\n",
        "*(weight ~1%)*\n",
        "\n",
        "Review your Assignment 1 solution, and reproduce the experiment here. Try to improve the model without changing the model architecture.\n"
      ]
    },
    {
      "cell_type": "code",
      "metadata": {
        "id": "24ZvlgvRWW06"
      },
      "source": [
        "#load required libraries\n",
        "import tensorflow as tf\n",
        "from tensorflow import keras\n",
        "from keras.initializers import glorot_uniform\n",
        "from keras.layers import Input, Add, Dense, Activation, ZeroPadding2D, BatchNormalization, Flatten, Conv2D, AveragePooling2D, MaxPooling2D, GlobalMaxPooling2D,Reshape\n",
        "from tensorflow.keras.datasets import fashion_mnist,cifar10\n",
        "from keras.models import Model\n",
        "from keras.preprocessing.image import ImageDataGenerator\n",
        "from sklearn.metrics import classification_report\n",
        "import numpy as np\n",
        "import pandas as pd\n",
        "from tensorflow.keras import models,layers,optimizers\n",
        "import tensorflow.keras\n",
        "import matplotlib.pyplot as plt"
      ],
      "execution_count": 1,
      "outputs": []
    },
    {
      "cell_type": "code",
      "metadata": {
        "id": "JzWz2zuIViHE"
      },
      "source": [
        "#load fashion-mnist data\n",
        "(train_images, train_labels), (test_images, test_labels) = fashion_mnist.load_data()"
      ],
      "execution_count": 110,
      "outputs": []
    },
    {
      "cell_type": "code",
      "metadata": {
        "id": "F4FnVcWlWt3m"
      },
      "source": [
        "#image reshape\n",
        "train_images = train_images.reshape((60000,28*28))\n",
        "test_images = test_images.reshape((10000,28*28))"
      ],
      "execution_count": 111,
      "outputs": []
    },
    {
      "cell_type": "code",
      "metadata": {
        "id": "IK5Rk1VuWvNz",
        "colab": {
          "base_uri": "https://localhost:8080/"
        },
        "outputId": "7697595f-4907-44cd-a412-425122f71e29"
      },
      "source": [
        "#image rescaling\n",
        "train_images = train_images.astype('float32') / 255\n",
        "test_images = test_images.astype('float32') / 255\n",
        "train_images[0]"
      ],
      "execution_count": 112,
      "outputs": [
        {
          "output_type": "execute_result",
          "data": {
            "text/plain": [
              "array([0.        , 0.        , 0.        , 0.        , 0.        ,\n",
              "       0.        , 0.        , 0.        , 0.        , 0.        ,\n",
              "       0.        , 0.        , 0.        , 0.        , 0.        ,\n",
              "       0.        , 0.        , 0.        , 0.        , 0.        ,\n",
              "       0.        , 0.        , 0.        , 0.        , 0.        ,\n",
              "       0.        , 0.        , 0.        , 0.        , 0.        ,\n",
              "       0.        , 0.        , 0.        , 0.        , 0.        ,\n",
              "       0.        , 0.        , 0.        , 0.        , 0.        ,\n",
              "       0.        , 0.        , 0.        , 0.        , 0.        ,\n",
              "       0.        , 0.        , 0.        , 0.        , 0.        ,\n",
              "       0.        , 0.        , 0.        , 0.        , 0.        ,\n",
              "       0.        , 0.        , 0.        , 0.        , 0.        ,\n",
              "       0.        , 0.        , 0.        , 0.        , 0.        ,\n",
              "       0.        , 0.        , 0.        , 0.        , 0.        ,\n",
              "       0.        , 0.        , 0.        , 0.        , 0.        ,\n",
              "       0.        , 0.        , 0.        , 0.        , 0.        ,\n",
              "       0.        , 0.        , 0.        , 0.        , 0.        ,\n",
              "       0.        , 0.        , 0.        , 0.        , 0.        ,\n",
              "       0.        , 0.        , 0.        , 0.        , 0.        ,\n",
              "       0.        , 0.00392157, 0.        , 0.        , 0.05098039,\n",
              "       0.28627452, 0.        , 0.        , 0.00392157, 0.01568628,\n",
              "       0.        , 0.        , 0.        , 0.        , 0.00392157,\n",
              "       0.00392157, 0.        , 0.        , 0.        , 0.        ,\n",
              "       0.        , 0.        , 0.        , 0.        , 0.        ,\n",
              "       0.        , 0.        , 0.        , 0.        , 0.01176471,\n",
              "       0.        , 0.14117648, 0.53333336, 0.49803922, 0.24313726,\n",
              "       0.21176471, 0.        , 0.        , 0.        , 0.00392157,\n",
              "       0.01176471, 0.01568628, 0.        , 0.        , 0.01176471,\n",
              "       0.        , 0.        , 0.        , 0.        , 0.        ,\n",
              "       0.        , 0.        , 0.        , 0.        , 0.        ,\n",
              "       0.        , 0.        , 0.02352941, 0.        , 0.4       ,\n",
              "       0.8       , 0.6901961 , 0.5254902 , 0.5647059 , 0.48235294,\n",
              "       0.09019608, 0.        , 0.        , 0.        , 0.        ,\n",
              "       0.04705882, 0.03921569, 0.        , 0.        , 0.        ,\n",
              "       0.        , 0.        , 0.        , 0.        , 0.        ,\n",
              "       0.        , 0.        , 0.        , 0.        , 0.        ,\n",
              "       0.        , 0.        , 0.60784316, 0.9254902 , 0.8117647 ,\n",
              "       0.69803923, 0.41960785, 0.6117647 , 0.6313726 , 0.42745098,\n",
              "       0.2509804 , 0.09019608, 0.3019608 , 0.50980395, 0.28235295,\n",
              "       0.05882353, 0.        , 0.        , 0.        , 0.        ,\n",
              "       0.        , 0.        , 0.        , 0.        , 0.        ,\n",
              "       0.        , 0.        , 0.00392157, 0.        , 0.27058825,\n",
              "       0.8117647 , 0.8745098 , 0.85490197, 0.84705883, 0.84705883,\n",
              "       0.6392157 , 0.49803922, 0.4745098 , 0.47843137, 0.57254905,\n",
              "       0.5529412 , 0.34509805, 0.6745098 , 0.25882354, 0.        ,\n",
              "       0.        , 0.        , 0.        , 0.        , 0.        ,\n",
              "       0.        , 0.        , 0.        , 0.00392157, 0.00392157,\n",
              "       0.00392157, 0.        , 0.78431374, 0.9098039 , 0.9098039 ,\n",
              "       0.9137255 , 0.8980392 , 0.8745098 , 0.8745098 , 0.84313726,\n",
              "       0.8352941 , 0.6431373 , 0.49803922, 0.48235294, 0.76862746,\n",
              "       0.8980392 , 0.        , 0.        , 0.        , 0.        ,\n",
              "       0.        , 0.        , 0.        , 0.        , 0.        ,\n",
              "       0.        , 0.        , 0.        , 0.        , 0.        ,\n",
              "       0.7176471 , 0.88235295, 0.84705883, 0.8745098 , 0.89411765,\n",
              "       0.92156863, 0.8901961 , 0.8784314 , 0.87058824, 0.8784314 ,\n",
              "       0.8666667 , 0.8745098 , 0.9607843 , 0.6784314 , 0.        ,\n",
              "       0.        , 0.        , 0.        , 0.        , 0.        ,\n",
              "       0.        , 0.        , 0.        , 0.        , 0.        ,\n",
              "       0.        , 0.        , 0.        , 0.75686276, 0.89411765,\n",
              "       0.85490197, 0.8352941 , 0.7764706 , 0.7058824 , 0.83137256,\n",
              "       0.8235294 , 0.827451  , 0.8352941 , 0.8745098 , 0.8627451 ,\n",
              "       0.9529412 , 0.7921569 , 0.        , 0.        , 0.        ,\n",
              "       0.        , 0.        , 0.        , 0.        , 0.        ,\n",
              "       0.        , 0.        , 0.00392157, 0.01176471, 0.        ,\n",
              "       0.04705882, 0.85882354, 0.8627451 , 0.83137256, 0.85490197,\n",
              "       0.7529412 , 0.6627451 , 0.8901961 , 0.8156863 , 0.85490197,\n",
              "       0.8784314 , 0.83137256, 0.8862745 , 0.77254903, 0.81960785,\n",
              "       0.20392157, 0.        , 0.        , 0.        , 0.        ,\n",
              "       0.        , 0.        , 0.        , 0.        , 0.        ,\n",
              "       0.        , 0.02352941, 0.        , 0.3882353 , 0.95686275,\n",
              "       0.87058824, 0.8627451 , 0.85490197, 0.79607844, 0.7764706 ,\n",
              "       0.8666667 , 0.84313726, 0.8352941 , 0.87058824, 0.8627451 ,\n",
              "       0.9607843 , 0.46666667, 0.654902  , 0.21960784, 0.        ,\n",
              "       0.        , 0.        , 0.        , 0.        , 0.        ,\n",
              "       0.        , 0.        , 0.        , 0.01568628, 0.        ,\n",
              "       0.        , 0.21568628, 0.9254902 , 0.89411765, 0.9019608 ,\n",
              "       0.89411765, 0.9411765 , 0.9098039 , 0.8352941 , 0.85490197,\n",
              "       0.8745098 , 0.91764706, 0.8509804 , 0.8509804 , 0.81960785,\n",
              "       0.36078432, 0.        , 0.        , 0.        , 0.00392157,\n",
              "       0.01568628, 0.02352941, 0.02745098, 0.00784314, 0.        ,\n",
              "       0.        , 0.        , 0.        , 0.        , 0.92941177,\n",
              "       0.8862745 , 0.8509804 , 0.8745098 , 0.87058824, 0.85882354,\n",
              "       0.87058824, 0.8666667 , 0.84705883, 0.8745098 , 0.8980392 ,\n",
              "       0.84313726, 0.85490197, 1.        , 0.3019608 , 0.        ,\n",
              "       0.        , 0.01176471, 0.        , 0.        , 0.        ,\n",
              "       0.        , 0.        , 0.        , 0.        , 0.24313726,\n",
              "       0.5686275 , 0.8       , 0.89411765, 0.8117647 , 0.8352941 ,\n",
              "       0.8666667 , 0.85490197, 0.8156863 , 0.827451  , 0.85490197,\n",
              "       0.8784314 , 0.8745098 , 0.85882354, 0.84313726, 0.8784314 ,\n",
              "       0.95686275, 0.62352943, 0.        , 0.        , 0.        ,\n",
              "       0.        , 0.        , 0.07058824, 0.17254902, 0.32156864,\n",
              "       0.41960785, 0.7411765 , 0.89411765, 0.8627451 , 0.87058824,\n",
              "       0.8509804 , 0.8862745 , 0.78431374, 0.8039216 , 0.827451  ,\n",
              "       0.9019608 , 0.8784314 , 0.91764706, 0.6901961 , 0.7372549 ,\n",
              "       0.98039216, 0.972549  , 0.9137255 , 0.93333334, 0.84313726,\n",
              "       0.        , 0.        , 0.22352941, 0.73333335, 0.8156863 ,\n",
              "       0.8784314 , 0.8666667 , 0.8784314 , 0.8156863 , 0.8       ,\n",
              "       0.8392157 , 0.8156863 , 0.81960785, 0.78431374, 0.62352943,\n",
              "       0.9607843 , 0.75686276, 0.80784315, 0.8745098 , 1.        ,\n",
              "       1.        , 0.8666667 , 0.91764706, 0.8666667 , 0.827451  ,\n",
              "       0.8627451 , 0.9098039 , 0.9647059 , 0.        , 0.01176471,\n",
              "       0.7921569 , 0.89411765, 0.8784314 , 0.8666667 , 0.827451  ,\n",
              "       0.827451  , 0.8392157 , 0.8039216 , 0.8039216 , 0.8039216 ,\n",
              "       0.8627451 , 0.9411765 , 0.3137255 , 0.5882353 , 1.        ,\n",
              "       0.8980392 , 0.8666667 , 0.7372549 , 0.6039216 , 0.7490196 ,\n",
              "       0.8235294 , 0.8       , 0.81960785, 0.87058824, 0.89411765,\n",
              "       0.88235295, 0.        , 0.38431373, 0.9137255 , 0.7764706 ,\n",
              "       0.8235294 , 0.87058824, 0.8980392 , 0.8980392 , 0.91764706,\n",
              "       0.9764706 , 0.8627451 , 0.7607843 , 0.84313726, 0.8509804 ,\n",
              "       0.94509804, 0.25490198, 0.28627452, 0.41568628, 0.45882353,\n",
              "       0.65882355, 0.85882354, 0.8666667 , 0.84313726, 0.8509804 ,\n",
              "       0.8745098 , 0.8745098 , 0.8784314 , 0.8980392 , 0.11372549,\n",
              "       0.29411766, 0.8       , 0.83137256, 0.8       , 0.75686276,\n",
              "       0.8039216 , 0.827451  , 0.88235295, 0.84705883, 0.7254902 ,\n",
              "       0.77254903, 0.80784315, 0.7764706 , 0.8352941 , 0.9411765 ,\n",
              "       0.7647059 , 0.8901961 , 0.9607843 , 0.9372549 , 0.8745098 ,\n",
              "       0.85490197, 0.83137256, 0.81960785, 0.87058824, 0.8627451 ,\n",
              "       0.8666667 , 0.9019608 , 0.2627451 , 0.1882353 , 0.79607844,\n",
              "       0.7176471 , 0.7607843 , 0.8352941 , 0.77254903, 0.7254902 ,\n",
              "       0.74509805, 0.7607843 , 0.7529412 , 0.7921569 , 0.8392157 ,\n",
              "       0.85882354, 0.8666667 , 0.8627451 , 0.9254902 , 0.88235295,\n",
              "       0.84705883, 0.78039217, 0.80784315, 0.7294118 , 0.70980394,\n",
              "       0.69411767, 0.6745098 , 0.70980394, 0.8039216 , 0.80784315,\n",
              "       0.4509804 , 0.        , 0.47843137, 0.85882354, 0.75686276,\n",
              "       0.7019608 , 0.67058825, 0.7176471 , 0.76862746, 0.8       ,\n",
              "       0.8235294 , 0.8352941 , 0.8117647 , 0.827451  , 0.8235294 ,\n",
              "       0.78431374, 0.76862746, 0.7607843 , 0.7490196 , 0.7647059 ,\n",
              "       0.7490196 , 0.7764706 , 0.7529412 , 0.6901961 , 0.6117647 ,\n",
              "       0.654902  , 0.69411767, 0.8235294 , 0.36078432, 0.        ,\n",
              "       0.        , 0.2901961 , 0.7411765 , 0.83137256, 0.7490196 ,\n",
              "       0.6862745 , 0.6745098 , 0.6862745 , 0.70980394, 0.7254902 ,\n",
              "       0.7372549 , 0.7411765 , 0.7372549 , 0.75686276, 0.7764706 ,\n",
              "       0.8       , 0.81960785, 0.8235294 , 0.8235294 , 0.827451  ,\n",
              "       0.7372549 , 0.7372549 , 0.7607843 , 0.7529412 , 0.84705883,\n",
              "       0.6666667 , 0.        , 0.00784314, 0.        , 0.        ,\n",
              "       0.        , 0.25882354, 0.78431374, 0.87058824, 0.92941177,\n",
              "       0.9372549 , 0.9490196 , 0.9647059 , 0.9529412 , 0.95686275,\n",
              "       0.8666667 , 0.8627451 , 0.75686276, 0.7490196 , 0.7019608 ,\n",
              "       0.7137255 , 0.7137255 , 0.70980394, 0.6901961 , 0.6509804 ,\n",
              "       0.65882355, 0.3882353 , 0.22745098, 0.        , 0.        ,\n",
              "       0.        , 0.        , 0.        , 0.        , 0.        ,\n",
              "       0.        , 0.        , 0.15686275, 0.23921569, 0.17254902,\n",
              "       0.28235295, 0.16078432, 0.13725491, 0.        , 0.        ,\n",
              "       0.        , 0.        , 0.        , 0.        , 0.        ,\n",
              "       0.        , 0.        , 0.        , 0.        , 0.        ,\n",
              "       0.        , 0.        , 0.        , 0.        , 0.        ,\n",
              "       0.        , 0.        , 0.        , 0.        , 0.        ,\n",
              "       0.        , 0.        , 0.        , 0.        , 0.        ,\n",
              "       0.        , 0.        , 0.        , 0.        , 0.        ,\n",
              "       0.        , 0.        , 0.        , 0.        , 0.        ,\n",
              "       0.        , 0.        , 0.        , 0.        , 0.        ,\n",
              "       0.        , 0.        , 0.        , 0.        , 0.        ,\n",
              "       0.        , 0.        , 0.        , 0.        , 0.        ,\n",
              "       0.        , 0.        , 0.        , 0.        , 0.        ,\n",
              "       0.        , 0.        , 0.        , 0.        , 0.        ,\n",
              "       0.        , 0.        , 0.        , 0.        , 0.        ,\n",
              "       0.        , 0.        , 0.        , 0.        ], dtype=float32)"
            ]
          },
          "metadata": {
            "tags": []
          },
          "execution_count": 112
        }
      ]
    },
    {
      "cell_type": "code",
      "metadata": {
        "id": "kRIYYAzSWzKO",
        "colab": {
          "base_uri": "https://localhost:8080/"
        },
        "outputId": "0c399a38-28bb-4ec3-86ad-eae8b978fcc0"
      },
      "source": [
        "#convert labels into float datatype\n",
        "from keras.utils.np_utils import to_categorical\n",
        "train_labels = to_categorical(train_labels)\n",
        "test_labels = to_categorical(test_labels)\n",
        "train_labels"
      ],
      "execution_count": 113,
      "outputs": [
        {
          "output_type": "execute_result",
          "data": {
            "text/plain": [
              "array([[0., 0., 0., ..., 0., 0., 1.],\n",
              "       [1., 0., 0., ..., 0., 0., 0.],\n",
              "       [1., 0., 0., ..., 0., 0., 0.],\n",
              "       ...,\n",
              "       [0., 0., 0., ..., 0., 0., 0.],\n",
              "       [1., 0., 0., ..., 0., 0., 0.],\n",
              "       [0., 0., 0., ..., 0., 0., 0.]], dtype=float32)"
            ]
          },
          "metadata": {
            "tags": []
          },
          "execution_count": 113
        }
      ]
    },
    {
      "cell_type": "code",
      "metadata": {
        "colab": {
          "base_uri": "https://localhost:8080/"
        },
        "id": "ca8fP7HAW5r4",
        "outputId": "56c1f28e-6738-4b7e-e776-d0d8fe664685"
      },
      "source": [
        "batch_size = 256\n",
        "train_size = round(train_images.shape[0]*0.9,None)\n",
        "train_size"
      ],
      "execution_count": 114,
      "outputs": [
        {
          "output_type": "execute_result",
          "data": {
            "text/plain": [
              "54000"
            ]
          },
          "metadata": {
            "tags": []
          },
          "execution_count": 114
        }
      ]
    },
    {
      "cell_type": "code",
      "metadata": {
        "id": "hvFRTGBjXJtL",
        "colab": {
          "base_uri": "https://localhost:8080/"
        },
        "outputId": "4bea3823-91ae-4654-e2e1-e6071fe1b5f5"
      },
      "source": [
        "# split validation and train from training data\n",
        "x_val = train_images[train_size:]\n",
        "y_val = train_labels[train_size:]\n",
        "x_train = train_images[:train_size]\n",
        "y_train = train_labels[:train_size]\n",
        "np.unique(x_train)"
      ],
      "execution_count": 115,
      "outputs": [
        {
          "output_type": "execute_result",
          "data": {
            "text/plain": [
              "array([0.        , 0.00392157, 0.00784314, 0.01176471, 0.01568628,\n",
              "       0.01960784, 0.02352941, 0.02745098, 0.03137255, 0.03529412,\n",
              "       0.03921569, 0.04313726, 0.04705882, 0.05098039, 0.05490196,\n",
              "       0.05882353, 0.0627451 , 0.06666667, 0.07058824, 0.07450981,\n",
              "       0.07843138, 0.08235294, 0.08627451, 0.09019608, 0.09411765,\n",
              "       0.09803922, 0.10196079, 0.10588235, 0.10980392, 0.11372549,\n",
              "       0.11764706, 0.12156863, 0.1254902 , 0.12941177, 0.13333334,\n",
              "       0.13725491, 0.14117648, 0.14509805, 0.14901961, 0.15294118,\n",
              "       0.15686275, 0.16078432, 0.16470589, 0.16862746, 0.17254902,\n",
              "       0.1764706 , 0.18039216, 0.18431373, 0.1882353 , 0.19215687,\n",
              "       0.19607843, 0.2       , 0.20392157, 0.20784314, 0.21176471,\n",
              "       0.21568628, 0.21960784, 0.22352941, 0.22745098, 0.23137255,\n",
              "       0.23529412, 0.23921569, 0.24313726, 0.24705882, 0.2509804 ,\n",
              "       0.25490198, 0.25882354, 0.2627451 , 0.26666668, 0.27058825,\n",
              "       0.27450982, 0.2784314 , 0.28235295, 0.28627452, 0.2901961 ,\n",
              "       0.29411766, 0.29803923, 0.3019608 , 0.30588236, 0.30980393,\n",
              "       0.3137255 , 0.31764707, 0.32156864, 0.3254902 , 0.32941177,\n",
              "       0.33333334, 0.3372549 , 0.34117648, 0.34509805, 0.34901962,\n",
              "       0.3529412 , 0.35686275, 0.36078432, 0.3647059 , 0.36862746,\n",
              "       0.37254903, 0.3764706 , 0.38039216, 0.38431373, 0.3882353 ,\n",
              "       0.39215687, 0.39607844, 0.4       , 0.40392157, 0.40784314,\n",
              "       0.4117647 , 0.41568628, 0.41960785, 0.42352942, 0.42745098,\n",
              "       0.43137255, 0.43529412, 0.4392157 , 0.44313726, 0.44705883,\n",
              "       0.4509804 , 0.45490196, 0.45882353, 0.4627451 , 0.46666667,\n",
              "       0.47058824, 0.4745098 , 0.47843137, 0.48235294, 0.4862745 ,\n",
              "       0.49019608, 0.49411765, 0.49803922, 0.5019608 , 0.5058824 ,\n",
              "       0.50980395, 0.5137255 , 0.5176471 , 0.52156866, 0.5254902 ,\n",
              "       0.5294118 , 0.53333336, 0.5372549 , 0.5411765 , 0.54509807,\n",
              "       0.54901963, 0.5529412 , 0.5568628 , 0.56078434, 0.5647059 ,\n",
              "       0.5686275 , 0.57254905, 0.5764706 , 0.5803922 , 0.58431375,\n",
              "       0.5882353 , 0.5921569 , 0.59607846, 0.6       , 0.6039216 ,\n",
              "       0.60784316, 0.6117647 , 0.6156863 , 0.61960787, 0.62352943,\n",
              "       0.627451  , 0.6313726 , 0.63529414, 0.6392157 , 0.6431373 ,\n",
              "       0.64705884, 0.6509804 , 0.654902  , 0.65882355, 0.6627451 ,\n",
              "       0.6666667 , 0.67058825, 0.6745098 , 0.6784314 , 0.68235296,\n",
              "       0.6862745 , 0.6901961 , 0.69411767, 0.69803923, 0.7019608 ,\n",
              "       0.7058824 , 0.70980394, 0.7137255 , 0.7176471 , 0.72156864,\n",
              "       0.7254902 , 0.7294118 , 0.73333335, 0.7372549 , 0.7411765 ,\n",
              "       0.74509805, 0.7490196 , 0.7529412 , 0.75686276, 0.7607843 ,\n",
              "       0.7647059 , 0.76862746, 0.77254903, 0.7764706 , 0.78039217,\n",
              "       0.78431374, 0.7882353 , 0.7921569 , 0.79607844, 0.8       ,\n",
              "       0.8039216 , 0.80784315, 0.8117647 , 0.8156863 , 0.81960785,\n",
              "       0.8235294 , 0.827451  , 0.83137256, 0.8352941 , 0.8392157 ,\n",
              "       0.84313726, 0.84705883, 0.8509804 , 0.85490197, 0.85882354,\n",
              "       0.8627451 , 0.8666667 , 0.87058824, 0.8745098 , 0.8784314 ,\n",
              "       0.88235295, 0.8862745 , 0.8901961 , 0.89411765, 0.8980392 ,\n",
              "       0.9019608 , 0.90588236, 0.9098039 , 0.9137255 , 0.91764706,\n",
              "       0.92156863, 0.9254902 , 0.92941177, 0.93333334, 0.9372549 ,\n",
              "       0.9411765 , 0.94509804, 0.9490196 , 0.9529412 , 0.95686275,\n",
              "       0.9607843 , 0.9647059 , 0.96862745, 0.972549  , 0.9764706 ,\n",
              "       0.98039216, 0.9843137 , 0.9882353 , 0.99215686, 0.99607843,\n",
              "       1.        ], dtype=float32)"
            ]
          },
          "metadata": {
            "tags": []
          },
          "execution_count": 115
        }
      ]
    },
    {
      "cell_type": "code",
      "metadata": {
        "id": "oLXv4TA0X7rI"
      },
      "source": [
        "# td.data pipeline \n",
        "def configure_for_performance(ds):\n",
        "  ds = ds.cache()\n",
        "  #ds = ds.shuffle()\n",
        "  ds = ds.batch(batch_size)\n",
        "  return ds"
      ],
      "execution_count": 116,
      "outputs": []
    },
    {
      "cell_type": "code",
      "metadata": {
        "id": "k3GFZYtyrjqg"
      },
      "source": [
        "train_ds = tf.data.Dataset.from_tensor_slices((x_train,y_train))\n",
        "val_ds = tf.data.Dataset.from_tensor_slices((x_val,y_val))\n",
        "train_ds = configure_for_performance(train_ds)\n",
        "val_ds = configure_for_performance(val_ds)"
      ],
      "execution_count": 117,
      "outputs": []
    },
    {
      "cell_type": "code",
      "metadata": {
        "colab": {
          "base_uri": "https://localhost:8080/"
        },
        "id": "WEcjpOMVNLhv",
        "outputId": "45247e71-4388-447e-93a6-65d4644be57d"
      },
      "source": [
        "test_ds=tf.data.Dataset.from_tensor_slices((test_images,test_labels))\n",
        "test_ds = configure_for_performance(test_ds)\n",
        "train_ds"
      ],
      "execution_count": 118,
      "outputs": [
        {
          "output_type": "execute_result",
          "data": {
            "text/plain": [
              "<BatchDataset shapes: ((None, 784), (None, 10)), types: (tf.float32, tf.float32)>"
            ]
          },
          "metadata": {
            "tags": []
          },
          "execution_count": 118
        }
      ]
    },
    {
      "cell_type": "code",
      "metadata": {
        "id": "FMWrwku8YPDP"
      },
      "source": [
        "def model_2_withRegularizer():\n",
        "    initializer = tf.keras.initializers.GlorotNormal()\n",
        "\n",
        "    model2_R = models.Sequential()\n",
        "    model2_R.add(layers.Dense(32, activation='relu', input_shape=(784,),kernel_initializer=initializer,kernel_regularizer=tf.keras.regularizers.l2(0.01)))\n",
        "    model2_R.add(layers.Dense(32, activation='relu',kernel_initializer=initializer))\n",
        "    model2_R.add(layers.Dense(10, activation='softmax',kernel_initializer=initializer))\n",
        "\n",
        "    model2_R.summary()\n",
        "\n",
        "    model2_R.compile(optimizer=optimizers.RMSprop(lr=0.001),\n",
        "                  loss='categorical_crossentropy',\n",
        "                  metrics=['accuracy'])\n",
        "    model2_R.save_weights('model_2_R.h5')\n",
        "    return model2_R"
      ],
      "execution_count": 10,
      "outputs": []
    },
    {
      "cell_type": "code",
      "metadata": {
        "id": "F-mzkFVSYacs",
        "colab": {
          "base_uri": "https://localhost:8080/"
        },
        "outputId": "4617764e-2b33-4efc-a93e-4bb984d7cccb"
      },
      "source": [
        "model_2_withRegularizer = model_2_withRegularizer()"
      ],
      "execution_count": 11,
      "outputs": [
        {
          "output_type": "stream",
          "text": [
            "Model: \"sequential\"\n",
            "_________________________________________________________________\n",
            "Layer (type)                 Output Shape              Param #   \n",
            "=================================================================\n",
            "dense (Dense)                (None, 32)                25120     \n",
            "_________________________________________________________________\n",
            "dense_1 (Dense)              (None, 32)                1056      \n",
            "_________________________________________________________________\n",
            "dense_2 (Dense)              (None, 10)                330       \n",
            "=================================================================\n",
            "Total params: 26,506\n",
            "Trainable params: 26,506\n",
            "Non-trainable params: 0\n",
            "_________________________________________________________________\n"
          ],
          "name": "stdout"
        }
      ]
    },
    {
      "cell_type": "code",
      "metadata": {
        "id": "GLYVuVocYd5L"
      },
      "source": [
        "model_2_withRegularizer.load_weights('model_2_R.h5')"
      ],
      "execution_count": 12,
      "outputs": []
    },
    {
      "cell_type": "code",
      "metadata": {
        "id": "hFVsgiNFYng8",
        "colab": {
          "base_uri": "https://localhost:8080/"
        },
        "outputId": "1fee1ec9-d8ef-41ec-aac4-aa7c43c03364"
      },
      "source": [
        "history = model_2_withRegularizer.fit(train_ds,\n",
        "                    epochs=10,\n",
        "                    validation_data=val_ds)"
      ],
      "execution_count": 13,
      "outputs": [
        {
          "output_type": "stream",
          "text": [
            "Epoch 1/10\n",
            "211/211 [==============================] - 4s 6ms/step - loss: 1.5232 - accuracy: 0.6375 - val_loss: 0.7993 - val_accuracy: 0.7813\n",
            "Epoch 2/10\n",
            "211/211 [==============================] - 1s 4ms/step - loss: 0.7463 - accuracy: 0.8010 - val_loss: 0.6627 - val_accuracy: 0.8053\n",
            "Epoch 3/10\n",
            "211/211 [==============================] - 1s 4ms/step - loss: 0.6422 - accuracy: 0.8176 - val_loss: 0.6078 - val_accuracy: 0.8103\n",
            "Epoch 4/10\n",
            "211/211 [==============================] - 1s 4ms/step - loss: 0.5978 - accuracy: 0.8232 - val_loss: 0.5804 - val_accuracy: 0.8145\n",
            "Epoch 5/10\n",
            "211/211 [==============================] - 1s 4ms/step - loss: 0.5707 - accuracy: 0.8276 - val_loss: 0.5711 - val_accuracy: 0.8202\n",
            "Epoch 6/10\n",
            "211/211 [==============================] - 1s 4ms/step - loss: 0.5515 - accuracy: 0.8305 - val_loss: 0.5784 - val_accuracy: 0.8128\n",
            "Epoch 7/10\n",
            "211/211 [==============================] - 1s 3ms/step - loss: 0.5405 - accuracy: 0.8322 - val_loss: 0.5875 - val_accuracy: 0.8035\n",
            "Epoch 8/10\n",
            "211/211 [==============================] - 1s 3ms/step - loss: 0.5296 - accuracy: 0.8330 - val_loss: 0.4959 - val_accuracy: 0.8508\n",
            "Epoch 9/10\n",
            "211/211 [==============================] - 1s 3ms/step - loss: 0.5195 - accuracy: 0.8384 - val_loss: 0.5331 - val_accuracy: 0.8288\n",
            "Epoch 10/10\n",
            "211/211 [==============================] - 1s 4ms/step - loss: 0.5116 - accuracy: 0.8401 - val_loss: 0.5214 - val_accuracy: 0.8337\n"
          ],
          "name": "stdout"
        }
      ]
    },
    {
      "cell_type": "code",
      "metadata": {
        "id": "L3HXddpyZPEn",
        "colab": {
          "base_uri": "https://localhost:8080/",
          "height": 295
        },
        "outputId": "931837bb-7e83-402f-e340-488026c23356"
      },
      "source": [
        "acc = history.history['accuracy']\n",
        "val_acc = history.history['val_accuracy']\n",
        "loss = history.history['loss']\n",
        "val_loss = history.history['val_loss']\n",
        "epochs = range(1, len(acc) + 1)\n",
        "\n",
        "plt.figure(figsize=(15,4))\n",
        "\n",
        "ax1 = plt.subplot(1, 2, 1)\n",
        "plt.plot(epochs, loss, label='Training loss')\n",
        "plt.plot(epochs, val_loss, label='Validation loss')\n",
        "plt.fill_between(epochs, loss,val_loss,color='g',alpha=.1)\n",
        "\n",
        "plt.title('Training and validation loss')\n",
        "plt.xlabel('Epochs')\n",
        "plt.ylabel('Loss')\n",
        "plt.legend()\n",
        "\n",
        "ax2 = plt.subplot(1, 2, 2)\n",
        "plt.plot(epochs, acc, label='Training accuracy')\n",
        "plt.plot(epochs, val_acc, label='Validation accuracy')\n",
        "plt.fill_between(epochs, acc,val_acc,color='g',alpha=.1)\n",
        "plt.title('Training and validation accuracy')\n",
        "plt.xlabel('Epochs')\n",
        "plt.ylabel('Accuracy')\n",
        "plt.legend()\n",
        "plt.show()"
      ],
      "execution_count": 14,
      "outputs": [
        {
          "output_type": "display_data",
          "data": {
            "image/png": "[encoded data removed]",
            "text/plain": [
              "<Figure size 1080x288 with 2 Axes>"
            ]
          },
          "metadata": {
            "tags": [],
            "needs_background": "light"
          }
        }
      ]
    },
    {
      "cell_type": "code",
      "metadata": {
        "id": "1oB3bE1dbWx5"
      },
      "source": [
        "##### same architecture #### improving model prediction\n",
        "def model_2_withRegularizerAdam():\n",
        "    initializer = tf.keras.initializers.GlorotNormal()\n",
        "\n",
        "    model2_R = models.Sequential()\n",
        "    model2_R.add(layers.Dense(32, activation='relu', input_shape=(784,),kernel_initializer=initializer,kernel_regularizer=tf.keras.regularizers.l2(0.01)))\n",
        "    model2_R.add(layers.Dense(32, activation='relu',kernel_initializer=initializer))\n",
        "    model2_R.add(layers.Dense(10, activation='softmax',kernel_initializer=initializer))\n",
        "\n",
        "    model2_R.summary()\n",
        "\n",
        "    model2_R.compile(optimizer=optimizers.Adam(),\n",
        "                  loss='categorical_crossentropy',\n",
        "                  metrics=['accuracy'])\n",
        "    model2_R.save_weights('model_2_R_Adam.h5')\n",
        "    return model2_R"
      ],
      "execution_count": 119,
      "outputs": []
    },
    {
      "cell_type": "code",
      "metadata": {
        "id": "WeEc9-I8bucu",
        "colab": {
          "base_uri": "https://localhost:8080/"
        },
        "outputId": "bed534dd-4a21-427a-ee86-268bf349d871"
      },
      "source": [
        "model_2_withRegularizerAdam = model_2_withRegularizerAdam()"
      ],
      "execution_count": 120,
      "outputs": [
        {
          "output_type": "stream",
          "text": [
            "Model: \"sequential_9\"\n",
            "_________________________________________________________________\n",
            "Layer (type)                 Output Shape              Param #   \n",
            "=================================================================\n",
            "dense_16 (Dense)             (None, 32)                25120     \n",
            "_________________________________________________________________\n",
            "dense_17 (Dense)             (None, 32)                1056      \n",
            "_________________________________________________________________\n",
            "dense_18 (Dense)             (None, 10)                330       \n",
            "=================================================================\n",
            "Total params: 26,506\n",
            "Trainable params: 26,506\n",
            "Non-trainable params: 0\n",
            "_________________________________________________________________\n"
          ],
          "name": "stdout"
        }
      ]
    },
    {
      "cell_type": "code",
      "metadata": {
        "id": "c7bPsWJ0b6uE",
        "colab": {
          "base_uri": "https://localhost:8080/"
        },
        "outputId": "02f98409-29c6-43d2-c731-75f681bbdd59"
      },
      "source": [
        "history = model_2_withRegularizerAdam.fit(train_ds,\n",
        "                    epochs=15,\n",
        "                    validation_data=val_ds)"
      ],
      "execution_count": 121,
      "outputs": [
        {
          "output_type": "stream",
          "text": [
            "Epoch 1/15\n",
            "211/211 [==============================] - 1s 4ms/step - loss: 1.6443 - accuracy: 0.5819 - val_loss: 0.7080 - val_accuracy: 0.8210\n",
            "Epoch 2/15\n",
            "211/211 [==============================] - 1s 3ms/step - loss: 0.6739 - accuracy: 0.8242 - val_loss: 0.5886 - val_accuracy: 0.8363\n",
            "Epoch 3/15\n",
            "211/211 [==============================] - 1s 3ms/step - loss: 0.5796 - accuracy: 0.8375 - val_loss: 0.5508 - val_accuracy: 0.8407\n",
            "Epoch 4/15\n",
            "211/211 [==============================] - 1s 3ms/step - loss: 0.5423 - accuracy: 0.8424 - val_loss: 0.5252 - val_accuracy: 0.8437\n",
            "Epoch 5/15\n",
            "211/211 [==============================] - 1s 3ms/step - loss: 0.5200 - accuracy: 0.8462 - val_loss: 0.5044 - val_accuracy: 0.8497\n",
            "Epoch 6/15\n",
            "211/211 [==============================] - 1s 3ms/step - loss: 0.5029 - accuracy: 0.8512 - val_loss: 0.4928 - val_accuracy: 0.8510\n",
            "Epoch 7/15\n",
            "211/211 [==============================] - 1s 3ms/step - loss: 0.4903 - accuracy: 0.8527 - val_loss: 0.4884 - val_accuracy: 0.8520\n",
            "Epoch 8/15\n",
            "211/211 [==============================] - 1s 3ms/step - loss: 0.4809 - accuracy: 0.8548 - val_loss: 0.4799 - val_accuracy: 0.8540\n",
            "Epoch 9/15\n",
            "211/211 [==============================] - 1s 3ms/step - loss: 0.4724 - accuracy: 0.8560 - val_loss: 0.4716 - val_accuracy: 0.8552\n",
            "Epoch 10/15\n",
            "211/211 [==============================] - 1s 3ms/step - loss: 0.4640 - accuracy: 0.8584 - val_loss: 0.4660 - val_accuracy: 0.8578\n",
            "Epoch 11/15\n",
            "211/211 [==============================] - 1s 3ms/step - loss: 0.4572 - accuracy: 0.8594 - val_loss: 0.4624 - val_accuracy: 0.8568\n",
            "Epoch 12/15\n",
            "211/211 [==============================] - 1s 3ms/step - loss: 0.4513 - accuracy: 0.8606 - val_loss: 0.4595 - val_accuracy: 0.8593\n",
            "Epoch 13/15\n",
            "211/211 [==============================] - 1s 3ms/step - loss: 0.4466 - accuracy: 0.8622 - val_loss: 0.4619 - val_accuracy: 0.8560\n",
            "Epoch 14/15\n",
            "211/211 [==============================] - 1s 3ms/step - loss: 0.4432 - accuracy: 0.8626 - val_loss: 0.4548 - val_accuracy: 0.8597\n",
            "Epoch 15/15\n",
            "211/211 [==============================] - 1s 3ms/step - loss: 0.4389 - accuracy: 0.8636 - val_loss: 0.4526 - val_accuracy: 0.8612\n"
          ],
          "name": "stdout"
        }
      ]
    },
    {
      "cell_type": "code",
      "metadata": {
        "colab": {
          "base_uri": "https://localhost:8080/"
        },
        "id": "Q4P7rVkvKVy3",
        "outputId": "a694e5be-2f87-45d4-eae7-b4baac170adc"
      },
      "source": [
        "model_2_withRegularizerAdam.evaluate(test_ds)"
      ],
      "execution_count": 123,
      "outputs": [
        {
          "output_type": "stream",
          "text": [
            "40/40 [==============================] - 0s 3ms/step - loss: 0.4715 - accuracy: 0.8559\n"
          ],
          "name": "stdout"
        },
        {
          "output_type": "execute_result",
          "data": {
            "text/plain": [
              "[0.471525639295578, 0.85589998960495]"
            ]
          },
          "metadata": {
            "tags": []
          },
          "execution_count": 123
        }
      ]
    },
    {
      "cell_type": "markdown",
      "metadata": {
        "id": "cfTL_5kPsl4j"
      },
      "source": [
        "### Task 1.2 Train a ConvNet from scratch\n",
        "\n",
        "*(weight ~5%)*\n",
        "\n",
        "Build a ConvNet to replace the densely connected network in Task 1.1. Report the classification accuracy on the test set. Aim to achieve higher accuracy. \n",
        "\n"
      ]
    },
    {
      "cell_type": "code",
      "metadata": {
        "id": "uw6ZnNrVr5tU"
      },
      "source": [
        "#load fashion-mnist data\n",
        "(train_images, train_labels), (test_images, test_labels) = fashion_mnist.load_data()"
      ],
      "execution_count": 124,
      "outputs": []
    },
    {
      "cell_type": "code",
      "metadata": {
        "id": "T-Ua4khYwYni"
      },
      "source": [
        "#image reshape\n",
        "train_images = np.reshape(train_images,(train_images.shape[0],28,28,1))\n",
        "test_images = np.reshape(test_images,(test_images.shape[0],28,28,1))"
      ],
      "execution_count": 125,
      "outputs": []
    },
    {
      "cell_type": "code",
      "metadata": {
        "id": "6iPwELJq1tsg",
        "colab": {
          "base_uri": "https://localhost:8080/"
        },
        "outputId": "f13f82a0-d054-45d5-f50f-fa27026f539a"
      },
      "source": [
        "train_labels"
      ],
      "execution_count": 126,
      "outputs": [
        {
          "output_type": "execute_result",
          "data": {
            "text/plain": [
              "array([9, 0, 0, ..., 3, 0, 5], dtype=uint8)"
            ]
          },
          "metadata": {
            "tags": []
          },
          "execution_count": 126
        }
      ]
    },
    {
      "cell_type": "code",
      "metadata": {
        "id": "vipc7yQYr7Er",
        "colab": {
          "base_uri": "https://localhost:8080/"
        },
        "outputId": "87417170-b10c-482e-c146-4521c930a8c8"
      },
      "source": [
        "#convert labels into float datatype\n",
        "from keras.utils.np_utils import to_categorical\n",
        "train_labels = to_categorical(train_labels)\n",
        "test_labels = to_categorical(test_labels)\n",
        "train_labels.shape"
      ],
      "execution_count": 127,
      "outputs": [
        {
          "output_type": "execute_result",
          "data": {
            "text/plain": [
              "(60000, 10)"
            ]
          },
          "metadata": {
            "tags": []
          },
          "execution_count": 127
        }
      ]
    },
    {
      "cell_type": "code",
      "metadata": {
        "id": "lzzjitqCwjWB"
      },
      "source": [
        "# split validation and train from training data\n",
        "x_val = train_images[train_size:]\n",
        "y_val = train_labels[train_size:]\n",
        "x_train = train_images[:train_size]\n",
        "y_train = train_labels[:train_size]\n"
      ],
      "execution_count": 128,
      "outputs": []
    },
    {
      "cell_type": "code",
      "metadata": {
        "id": "pbr4mTVhw5MF"
      },
      "source": [
        "train_ds = tf.data.Dataset.from_tensor_slices((x_train,y_train))\n",
        "val_ds = tf.data.Dataset.from_tensor_slices((x_val,y_val))\n",
        "train_ds = configure_for_performance(train_ds)\n",
        "val_ds = configure_for_performance(val_ds)"
      ],
      "execution_count": 129,
      "outputs": []
    },
    {
      "cell_type": "code",
      "metadata": {
        "id": "615rwyPGxvf7",
        "colab": {
          "base_uri": "https://localhost:8080/"
        },
        "outputId": "06e8c0b9-a26c-4cd5-810b-1ae092310438"
      },
      "source": [
        "test_ds=tf.data.Dataset.from_tensor_slices((test_images,test_labels))\n",
        "test_ds = configure_for_performance(test_ds)\n",
        "train_ds"
      ],
      "execution_count": 130,
      "outputs": [
        {
          "output_type": "execute_result",
          "data": {
            "text/plain": [
              "<BatchDataset shapes: ((None, 28, 28, 1), (None, 10)), types: (tf.uint8, tf.float32)>"
            ]
          },
          "metadata": {
            "tags": []
          },
          "execution_count": 130
        }
      ]
    },
    {
      "cell_type": "code",
      "metadata": {
        "id": "bCaoxHSsnJA6"
      },
      "source": [
        "IMAGE_SIZE = 28\n",
        "def convNet():\n",
        "  model = models.Sequential()\n",
        "  model.add(layers.experimental.preprocessing.Rescaling(1./255))\n",
        "  model.add(layers.Conv2D(32, (3, 3), activation='relu',\n",
        "                          input_shape=(IMAGE_SIZE, IMAGE_SIZE,1)))\n",
        "  model.add(layers.BatchNormalization(axis = 2))\n",
        "  model.add(layers.Conv2D(64, (3, 3), activation='relu'))\n",
        "  model.add(layers.MaxPooling2D((2, 2)))\n",
        "  model.add(layers.Conv2D(128, (3, 3), activation='relu'))\n",
        "  model.add(layers.MaxPooling2D((2, 2)))\n",
        "  model.add(layers.Flatten())\n",
        "  model.add(layers.Dense(512, activation='relu'))\n",
        "  model.add(layers.Dense(10, activation='softmax'))\n",
        "  model.compile(loss='categorical_crossentropy',\n",
        "              optimizer=optimizers.Adam(),\n",
        "              metrics=['acc'])\n",
        "  return model\n",
        "\n",
        "model = convNet()  "
      ],
      "execution_count": 131,
      "outputs": []
    },
    {
      "cell_type": "code",
      "metadata": {
        "id": "pc92o4lntA8l",
        "colab": {
          "base_uri": "https://localhost:8080/"
        },
        "outputId": "e6d1abc8-9eae-4d87-8502-7f5137693999"
      },
      "source": [
        "history = model.fit(\n",
        "      train_ds,\n",
        "      epochs=10,\n",
        "      validation_data=val_ds\n",
        "      )"
      ],
      "execution_count": 132,
      "outputs": [
        {
          "output_type": "stream",
          "text": [
            "Epoch 1/10\n",
            "211/211 [==============================] - 5s 21ms/step - loss: 0.7071 - acc: 0.7464 - val_loss: 1.1453 - val_acc: 0.8855\n",
            "Epoch 2/10\n",
            "211/211 [==============================] - 4s 20ms/step - loss: 0.2795 - acc: 0.8971 - val_loss: 0.4034 - val_acc: 0.9003\n",
            "Epoch 3/10\n",
            "211/211 [==============================] - 4s 20ms/step - loss: 0.2183 - acc: 0.9184 - val_loss: 0.2293 - val_acc: 0.9155\n",
            "Epoch 4/10\n",
            "211/211 [==============================] - 4s 20ms/step - loss: 0.1767 - acc: 0.9339 - val_loss: 0.2345 - val_acc: 0.9138\n",
            "Epoch 5/10\n",
            "211/211 [==============================] - 4s 20ms/step - loss: 0.1485 - acc: 0.9431 - val_loss: 0.2476 - val_acc: 0.9197\n",
            "Epoch 6/10\n",
            "211/211 [==============================] - 4s 20ms/step - loss: 0.1151 - acc: 0.9566 - val_loss: 0.2543 - val_acc: 0.9137\n",
            "Epoch 7/10\n",
            "211/211 [==============================] - 4s 20ms/step - loss: 0.0992 - acc: 0.9617 - val_loss: 0.2972 - val_acc: 0.9118\n",
            "Epoch 8/10\n",
            "211/211 [==============================] - 4s 20ms/step - loss: 0.0883 - acc: 0.9660 - val_loss: 0.3275 - val_acc: 0.9083\n",
            "Epoch 9/10\n",
            "211/211 [==============================] - 4s 20ms/step - loss: 0.0683 - acc: 0.9740 - val_loss: 0.3220 - val_acc: 0.9147\n",
            "Epoch 10/10\n",
            "211/211 [==============================] - 4s 20ms/step - loss: 0.0560 - acc: 0.9787 - val_loss: 0.3541 - val_acc: 0.9163\n"
          ],
          "name": "stdout"
        }
      ]
    },
    {
      "cell_type": "code",
      "metadata": {
        "id": "EaI0gbgbNlVr",
        "colab": {
          "base_uri": "https://localhost:8080/"
        },
        "outputId": "c7b1ed74-df70-4db2-b3bf-7726be67ee43"
      },
      "source": [
        "model.summary()"
      ],
      "execution_count": 133,
      "outputs": [
        {
          "output_type": "stream",
          "text": [
            "Model: \"sequential_10\"\n",
            "_________________________________________________________________\n",
            "Layer (type)                 Output Shape              Param #   \n",
            "=================================================================\n",
            "rescaling_10 (Rescaling)     (None, 28, 28, 1)         0         \n",
            "_________________________________________________________________\n",
            "conv2d_222 (Conv2D)          (None, 26, 26, 32)        320       \n",
            "_________________________________________________________________\n",
            "batch_normalization_204 (Bat (None, 26, 26, 32)        104       \n",
            "_________________________________________________________________\n",
            "conv2d_223 (Conv2D)          (None, 24, 24, 64)        18496     \n",
            "_________________________________________________________________\n",
            "max_pooling2d_9 (MaxPooling2 (None, 12, 12, 64)        0         \n",
            "_________________________________________________________________\n",
            "conv2d_224 (Conv2D)          (None, 10, 10, 128)       73856     \n",
            "_________________________________________________________________\n",
            "max_pooling2d_10 (MaxPooling (None, 5, 5, 128)         0         \n",
            "_________________________________________________________________\n",
            "flatten_9 (Flatten)          (None, 3200)              0         \n",
            "_________________________________________________________________\n",
            "dense_19 (Dense)             (None, 512)               1638912   \n",
            "_________________________________________________________________\n",
            "dense_20 (Dense)             (None, 10)                5130      \n",
            "=================================================================\n",
            "Total params: 1,736,818\n",
            "Trainable params: 1,736,766\n",
            "Non-trainable params: 52\n",
            "_________________________________________________________________\n"
          ],
          "name": "stdout"
        }
      ]
    },
    {
      "cell_type": "code",
      "metadata": {
        "colab": {
          "base_uri": "https://localhost:8080/"
        },
        "id": "ycPwu4elKukL",
        "outputId": "8ae60005-aee7-4751-9c76-995d918af0c3"
      },
      "source": [
        "model.evaluate(test_ds)"
      ],
      "execution_count": 134,
      "outputs": [
        {
          "output_type": "stream",
          "text": [
            "40/40 [==============================] - 0s 8ms/step - loss: 0.3938 - acc: 0.9098\n"
          ],
          "name": "stdout"
        },
        {
          "output_type": "execute_result",
          "data": {
            "text/plain": [
              "[0.39377468824386597, 0.9097999930381775]"
            ]
          },
          "metadata": {
            "tags": []
          },
          "execution_count": 134
        }
      ]
    },
    {
      "cell_type": "markdown",
      "metadata": {
        "id": "n7p3CGw0QYnO"
      },
      "source": [
        "Accuracy of ConvNet is higher than the dense layer in test accuarcy which is achieved in lesser epoch."
      ]
    },
    {
      "cell_type": "markdown",
      "metadata": {
        "id": "qbhr44DnMbKZ"
      },
      "source": [
        "\n",
        "### Task 1.3 Build an input pipeline for data augmentation\n",
        "\n",
        "*(weight ~3%)*\n",
        "\n",
        "Build a data preprocessing pipeline to perform data augmentation. (You may use Keras ImageDataGenerator or write your own transformations.)\n",
        "\n",
        "- Report the new classification accuracy. Make sure that you use the same number of training epochs as in Task 1.2.\n",
        "\n",
        "- (Optional) Profile your input pipeline to identify the most time-consuming operation. What actions have you taken to address that slow operation? (*Hint: You may use the [TensorFlow Profiler](https://github.com/tensorflow/profiler).*)"
      ]
    },
    {
      "cell_type": "code",
      "metadata": {
        "id": "KxOWNpk-tvrt"
      },
      "source": [
        "aug = ImageDataGenerator(\n",
        "\t\tzoom_range=0.15,\n",
        "\t\twidth_shift_range=0.2,\n",
        "\t\theight_shift_range=0.2,\n",
        "\t\thorizontal_flip=True,\n",
        "\t\tfill_mode=\"nearest\")"
      ],
      "execution_count": 28,
      "outputs": []
    },
    {
      "cell_type": "code",
      "metadata": {
        "id": "iH7tyMYPxzNy",
        "colab": {
          "base_uri": "https://localhost:8080/"
        },
        "outputId": "664e1cce-b3e5-4ca2-bb85-edddd99ca5b0"
      },
      "source": [
        "history = model.fit(\n",
        "\tx=aug.flow(x_train, y_train, batch_size=256),\n",
        "\tvalidation_data=val_ds,\n",
        "  epochs=10\n",
        "  )"
      ],
      "execution_count": 29,
      "outputs": [
        {
          "output_type": "stream",
          "text": [
            "Epoch 1/10\n",
            "211/211 [==============================] - 13s 60ms/step - loss: 0.6433 - acc: 0.7685 - val_loss: 0.3007 - val_acc: 0.8868\n",
            "Epoch 2/10\n",
            "211/211 [==============================] - 12s 58ms/step - loss: 0.4273 - acc: 0.8402 - val_loss: 0.2834 - val_acc: 0.8987\n",
            "Epoch 3/10\n",
            "211/211 [==============================] - 13s 60ms/step - loss: 0.3864 - acc: 0.8573 - val_loss: 0.2747 - val_acc: 0.8998\n",
            "Epoch 4/10\n",
            "211/211 [==============================] - 12s 59ms/step - loss: 0.3617 - acc: 0.8642 - val_loss: 0.2574 - val_acc: 0.9050\n",
            "Epoch 5/10\n",
            "211/211 [==============================] - 12s 58ms/step - loss: 0.3496 - acc: 0.8701 - val_loss: 0.2539 - val_acc: 0.9047\n",
            "Epoch 6/10\n",
            "211/211 [==============================] - 12s 59ms/step - loss: 0.3347 - acc: 0.8764 - val_loss: 0.2449 - val_acc: 0.9098\n",
            "Epoch 7/10\n",
            "211/211 [==============================] - 12s 59ms/step - loss: 0.3278 - acc: 0.8777 - val_loss: 0.2500 - val_acc: 0.9032\n",
            "Epoch 8/10\n",
            "211/211 [==============================] - 12s 59ms/step - loss: 0.3097 - acc: 0.8866 - val_loss: 0.2333 - val_acc: 0.9127\n",
            "Epoch 9/10\n",
            "211/211 [==============================] - 13s 59ms/step - loss: 0.3055 - acc: 0.8866 - val_loss: 0.2373 - val_acc: 0.9130\n",
            "Epoch 10/10\n",
            "211/211 [==============================] - 13s 60ms/step - loss: 0.3031 - acc: 0.8871 - val_loss: 0.2430 - val_acc: 0.9087\n"
          ],
          "name": "stdout"
        }
      ]
    },
    {
      "cell_type": "code",
      "metadata": {
        "id": "ZYkI-6Of6hvp",
        "colab": {
          "base_uri": "https://localhost:8080/"
        },
        "outputId": "831bdad4-a4d3-4286-f32a-6c31f5fea344"
      },
      "source": [
        "y_prob = model.predict(val_ds)\n",
        "y_pred = y_prob.argmax(axis=-1)\n",
        "y_true = y_val.argmax(axis=-1)\n",
        "print(classification_report(y_true, y_pred))"
      ],
      "execution_count": 30,
      "outputs": [
        {
          "output_type": "stream",
          "text": [
            "              precision    recall  f1-score   support\n",
            "\n",
            "           0       0.82      0.93      0.87       630\n",
            "           1       0.97      0.99      0.98       584\n",
            "           2       0.91      0.81      0.86       602\n",
            "           3       0.93      0.88      0.91       605\n",
            "           4       0.83      0.88      0.85       633\n",
            "           5       0.96      0.98      0.97       591\n",
            "           6       0.77      0.72      0.75       565\n",
            "           7       0.94      0.95      0.94       555\n",
            "           8       0.99      0.99      0.99       616\n",
            "           9       0.97      0.95      0.96       619\n",
            "\n",
            "    accuracy                           0.91      6000\n",
            "   macro avg       0.91      0.91      0.91      6000\n",
            "weighted avg       0.91      0.91      0.91      6000\n",
            "\n"
          ],
          "name": "stdout"
        }
      ]
    },
    {
      "cell_type": "markdown",
      "metadata": {
        "id": "prctXU4BswKK"
      },
      "source": [
        "### Task 1.4 Fashion-MNIST with transfer learning\n",
        "\n",
        "*(weight ~3%)*\n",
        "\n",
        "Use a pretrained model as the convolutional base to improve the classification performance. (Hint: You may use models in Keras Applications or those in the TensorFlow Hub.)\n",
        "\n",
        "- Try both with fine-tuning and without fine-tuning.\n",
        "- Report the model performance as before.\n",
        "\n"
      ]
    },
    {
      "cell_type": "code",
      "metadata": {
        "id": "MI-JOVAQ_Z9c"
      },
      "source": [
        "#load fashion-mnist data\n",
        "(train_images, train_labels), (test_images, test_labels) = fashion_mnist.load_data()"
      ],
      "execution_count": 31,
      "outputs": []
    },
    {
      "cell_type": "code",
      "metadata": {
        "id": "ilm41o1qPAKE"
      },
      "source": [
        "#image reshape\n",
        "batch_size = 256\n",
        "train_size = round(train_images.shape[0]*0.9,None)\n",
        "train_images = train_images.reshape((60000,28*28))\n",
        "test_images = test_images.reshape((10000,28*28))"
      ],
      "execution_count": 32,
      "outputs": []
    },
    {
      "cell_type": "code",
      "metadata": {
        "id": "K8bhP9-OIqE1",
        "colab": {
          "base_uri": "https://localhost:8080/"
        },
        "outputId": "0776617d-36c9-407f-8951-727f9c3cab7e"
      },
      "source": [
        "#train_images=np.stack([train_images,train_images,train_images],axis=3)\n",
        "#test_images=np.stack([test_images,test_images,test_images],axis=3)\n",
        "train_images.shape"
      ],
      "execution_count": 33,
      "outputs": [
        {
          "output_type": "execute_result",
          "data": {
            "text/plain": [
              "(60000, 784)"
            ]
          },
          "metadata": {
            "tags": []
          },
          "execution_count": 33
        }
      ]
    },
    {
      "cell_type": "code",
      "metadata": {
        "id": "5owsI5jkWjpY",
        "colab": {
          "base_uri": "https://localhost:8080/"
        },
        "outputId": "06f7963f-dae4-42c1-d8d6-962da13f9359"
      },
      "source": [
        "#convert labels into float datatype\n",
        "from keras.utils.np_utils import to_categorical\n",
        "train_labels = to_categorical(train_labels)\n",
        "test_labels = to_categorical(test_labels)\n",
        "train_labels"
      ],
      "execution_count": 34,
      "outputs": [
        {
          "output_type": "execute_result",
          "data": {
            "text/plain": [
              "array([[0., 0., 0., ..., 0., 0., 1.],\n",
              "       [1., 0., 0., ..., 0., 0., 0.],\n",
              "       [1., 0., 0., ..., 0., 0., 0.],\n",
              "       ...,\n",
              "       [0., 0., 0., ..., 0., 0., 0.],\n",
              "       [1., 0., 0., ..., 0., 0., 0.],\n",
              "       [0., 0., 0., ..., 0., 0., 0.]], dtype=float32)"
            ]
          },
          "metadata": {
            "tags": []
          },
          "execution_count": 34
        }
      ]
    },
    {
      "cell_type": "code",
      "metadata": {
        "id": "ir5IYX9CWuYl"
      },
      "source": [
        "# split validation and train from training data\n",
        "train_size=54000\n",
        "x_val = train_images[train_size:]\n",
        "y_val = train_labels[train_size:]\n",
        "x_train = train_images[:train_size]\n",
        "y_train = train_labels[:train_size]"
      ],
      "execution_count": 35,
      "outputs": []
    },
    {
      "cell_type": "code",
      "metadata": {
        "id": "8tCc7G9xOV5Y",
        "colab": {
          "base_uri": "https://localhost:8080/"
        },
        "outputId": "2b4fd343-d1de-4b61-9b3f-de36362b246c"
      },
      "source": [
        "train_ds = tf.data.Dataset.from_tensor_slices((x_train,y_train))\n",
        "val_ds = tf.data.Dataset.from_tensor_slices((x_val,y_val))\n",
        "train_ds = configure_for_performance(train_ds)\n",
        "val_ds = configure_for_performance(val_ds)\n",
        "train_images.shape"
      ],
      "execution_count": 36,
      "outputs": [
        {
          "output_type": "execute_result",
          "data": {
            "text/plain": [
              "(60000, 784)"
            ]
          },
          "metadata": {
            "tags": []
          },
          "execution_count": 36
        }
      ]
    },
    {
      "cell_type": "code",
      "metadata": {
        "id": "5aYZTqJC-Bf9",
        "colab": {
          "base_uri": "https://localhost:8080/"
        },
        "outputId": "7c3fabf0-c4ab-45ca-d8bb-3a3e584f3b34"
      },
      "source": [
        "base_model=tf.keras.applications.MobileNetV2(\n",
        "    input_shape=(128,128,3),\n",
        "    include_top=False,\n",
        "    weights=\"imagenet\")\n",
        "base_model_resnet_inception=tf.keras.applications.InceptionResNetV2(\n",
        "    include_top=False,\n",
        "    weights=\"imagenet\",\n",
        "    input_shape=(128,128,3),\n",
        ")"
      ],
      "execution_count": 37,
      "outputs": [
        {
          "output_type": "stream",
          "text": [
            "Downloading data from https://storage.googleapis.com/tensorflow/keras-applications/mobilenet_v2/mobilenet_v2_weights_tf_dim_ordering_tf_kernels_1.0_128_no_top.h5\n",
            "9412608/9406464 [==============================] - 0s 0us/step\n",
            "Downloading data from https://storage.googleapis.com/tensorflow/keras-applications/inception_resnet_v2/inception_resnet_v2_weights_tf_dim_ordering_tf_kernels_notop.h5\n",
            "219062272/219055592 [==============================] - 1s 0us/step\n"
          ],
          "name": "stdout"
        }
      ]
    },
    {
      "cell_type": "code",
      "metadata": {
        "id": "Zjddjb-8LEL7"
      },
      "source": [
        "def preTrained():\n",
        "  model = models.Sequential()\n",
        "  model.add(layers.experimental.preprocessing.Rescaling(1./255))\n",
        "  model.add(layers.Dense(49152, activation='relu', input_shape=(784,)))\n",
        "  model.add(Reshape((128,128,3), input_shape=(49152,)))\n",
        "  model.add(base_model)\n",
        "  model.add(layers.Flatten())\n",
        "  model.add(layers.Dense(10, activation='softmax'))\n",
        "  #Print a summary of the model ,kernel_regularizer=tf.keras.regularizers.l2(0.02),bias_regularizer=tf.keras.regularizers.l2(0.02)\n",
        "\n",
        "  # Compiling the model by defininf an optimizer, a loss function, \n",
        "  # and the metrics to be used for monitoring the traning.\n",
        "  model.compile(optimizer=optimizers.Adam(lr=2e-5),\n",
        "              loss='categorical_crossentropy',\n",
        "              metrics=['acc'])\n",
        "  return model\n",
        "base_model.trainable=False\n",
        "model = preTrained()  "
      ],
      "execution_count": 38,
      "outputs": []
    },
    {
      "cell_type": "code",
      "metadata": {
        "id": "hER2Bi2cLkxd",
        "colab": {
          "base_uri": "https://localhost:8080/"
        },
        "outputId": "02e9af1d-4262-460f-d25c-fcc1c799c18f"
      },
      "source": [
        "history = model.fit(\n",
        "          train_ds, epochs=10, \n",
        "          validation_data=val_ds\n",
        ")"
      ],
      "execution_count": 40,
      "outputs": [
        {
          "output_type": "stream",
          "text": [
            "Epoch 1/10\n",
            "211/211 [==============================] - 70s 334ms/step - loss: 0.4126 - acc: 0.8551 - val_loss: 0.3546 - val_acc: 0.8697\n",
            "Epoch 2/10\n",
            "211/211 [==============================] - 67s 320ms/step - loss: 0.3071 - acc: 0.8884 - val_loss: 0.3325 - val_acc: 0.8797\n",
            "Epoch 3/10\n",
            "211/211 [==============================] - 68s 320ms/step - loss: 0.2657 - acc: 0.9031 - val_loss: 0.3175 - val_acc: 0.8842\n",
            "Epoch 4/10\n",
            "211/211 [==============================] - 67s 320ms/step - loss: 0.2349 - acc: 0.9146 - val_loss: 0.3295 - val_acc: 0.8810\n",
            "Epoch 5/10\n",
            "211/211 [==============================] - 68s 320ms/step - loss: 0.2111 - acc: 0.9234 - val_loss: 0.3253 - val_acc: 0.8807\n",
            "Epoch 6/10\n",
            "211/211 [==============================] - 67s 320ms/step - loss: 0.1964 - acc: 0.9303 - val_loss: 0.3427 - val_acc: 0.8770\n",
            "Epoch 7/10\n",
            "211/211 [==============================] - 67s 320ms/step - loss: 0.1852 - acc: 0.9342 - val_loss: 0.3462 - val_acc: 0.8782\n",
            "Epoch 8/10\n",
            "211/211 [==============================] - 67s 320ms/step - loss: 0.1698 - acc: 0.9396 - val_loss: 0.3411 - val_acc: 0.8792\n",
            "Epoch 9/10\n",
            "211/211 [==============================] - 67s 320ms/step - loss: 0.1567 - acc: 0.9449 - val_loss: 0.3364 - val_acc: 0.8875\n",
            "Epoch 10/10\n",
            "211/211 [==============================] - 67s 320ms/step - loss: 0.1477 - acc: 0.9477 - val_loss: 0.3379 - val_acc: 0.8847\n"
          ],
          "name": "stdout"
        }
      ]
    },
    {
      "cell_type": "code",
      "metadata": {
        "id": "P-rUkFkgf1xM",
        "colab": {
          "base_uri": "https://localhost:8080/"
        },
        "outputId": "9482835e-00b2-48c1-a3fd-a7d0ce510102"
      },
      "source": [
        "model.summary()"
      ],
      "execution_count": 41,
      "outputs": [
        {
          "output_type": "stream",
          "text": [
            "Model: \"sequential_3\"\n",
            "_________________________________________________________________\n",
            "Layer (type)                 Output Shape              Param #   \n",
            "=================================================================\n",
            "rescaling_1 (Rescaling)      (None, 784)               0         \n",
            "_________________________________________________________________\n",
            "dense_8 (Dense)              (None, 49152)             38584320  \n",
            "_________________________________________________________________\n",
            "reshape (Reshape)            (None, 128, 128, 3)       0         \n",
            "_________________________________________________________________\n",
            "mobilenetv2_1.00_128 (Functi (None, 4, 4, 1280)        2257984   \n",
            "_________________________________________________________________\n",
            "flatten_1 (Flatten)          (None, 20480)             0         \n",
            "_________________________________________________________________\n",
            "dense_9 (Dense)              (None, 10)                204810    \n",
            "=================================================================\n",
            "Total params: 41,047,114\n",
            "Trainable params: 38,789,130\n",
            "Non-trainable params: 2,257,984\n",
            "_________________________________________________________________\n"
          ],
          "name": "stdout"
        }
      ]
    },
    {
      "cell_type": "code",
      "metadata": {
        "id": "0LHcMqkmC8DQ"
      },
      "source": [
        "def preTrained_Trainable():\n",
        "  model = models.Sequential()\n",
        "  model.add(layers.experimental.preprocessing.Rescaling(1./255))\n",
        "  model.add(layers.Dense(49152, activation='relu', input_shape=(784,)))\n",
        "  model.add(Reshape((128,128,3), input_shape=(49152,)))\n",
        "  model.add(base_model)\n",
        "  model.add(layers.Flatten())\n",
        "  model.add(layers.Dense(10, activation='softmax'))\n",
        "  #Print a summary of the model ,kernel_regularizer=tf.keras.regularizers.l2(0.02),bias_regularizer=tf.keras.regularizers.l2(0.02)\n",
        "\n",
        "  # Compiling the model by defininf an optimizer, a loss function, \n",
        "  # and the metrics to be used for monitoring the traning.\n",
        "  model.compile(optimizer=optimizers.Adam(lr=2e-5),\n",
        "              loss='categorical_crossentropy',\n",
        "              metrics=['acc'])\n",
        "  return model\n",
        "base_model.trainable=True\n",
        "model = preTrained_Trainable()  "
      ],
      "execution_count": 42,
      "outputs": []
    },
    {
      "cell_type": "code",
      "metadata": {
        "id": "4bdUcOVsGlRr",
        "colab": {
          "base_uri": "https://localhost:8080/"
        },
        "outputId": "ced819dc-e0ad-4949-ef7c-c2b952574ca0"
      },
      "source": [
        "history = model.fit(\n",
        "          train_ds, epochs=10, \n",
        "          validation_data=val_ds\n",
        ")"
      ],
      "execution_count": 43,
      "outputs": [
        {
          "output_type": "stream",
          "text": [
            "Epoch 1/10\n",
            "211/211 [==============================] - 114s 515ms/step - loss: 1.2294 - acc: 0.6114 - val_loss: 3.3658 - val_acc: 0.1438\n",
            "Epoch 2/10\n",
            "211/211 [==============================] - 108s 511ms/step - loss: 0.5069 - acc: 0.8230 - val_loss: 3.6709 - val_acc: 0.1152\n",
            "Epoch 3/10\n",
            "211/211 [==============================] - 108s 512ms/step - loss: 0.4036 - acc: 0.8534 - val_loss: 4.3035 - val_acc: 0.1413\n",
            "Epoch 4/10\n",
            "211/211 [==============================] - 107s 509ms/step - loss: 0.3434 - acc: 0.8739 - val_loss: 4.7017 - val_acc: 0.1297\n",
            "Epoch 5/10\n",
            "211/211 [==============================] - 108s 511ms/step - loss: 0.3030 - acc: 0.8870 - val_loss: 5.0848 - val_acc: 0.1325\n",
            "Epoch 6/10\n",
            "211/211 [==============================] - 108s 510ms/step - loss: 0.2638 - acc: 0.9010 - val_loss: 5.0657 - val_acc: 0.1502\n",
            "Epoch 7/10\n",
            "211/211 [==============================] - 107s 509ms/step - loss: 0.2435 - acc: 0.9079 - val_loss: 4.6703 - val_acc: 0.1525\n",
            "Epoch 8/10\n",
            "211/211 [==============================] - 107s 509ms/step - loss: 0.2211 - acc: 0.9182 - val_loss: 4.1431 - val_acc: 0.1968\n",
            "Epoch 9/10\n",
            "211/211 [==============================] - 108s 511ms/step - loss: 0.2029 - acc: 0.9224 - val_loss: 3.9748 - val_acc: 0.2418\n",
            "Epoch 10/10\n",
            "211/211 [==============================] - 107s 508ms/step - loss: 0.1953 - acc: 0.9253 - val_loss: 3.3364 - val_acc: 0.2723\n"
          ],
          "name": "stdout"
        }
      ]
    },
    {
      "cell_type": "code",
      "metadata": {
        "id": "z2Rd-me7furE",
        "colab": {
          "base_uri": "https://localhost:8080/"
        },
        "outputId": "1c5392aa-743e-4ad3-a904-f135f044df34"
      },
      "source": [
        "model.summary()"
      ],
      "execution_count": 44,
      "outputs": [
        {
          "output_type": "stream",
          "text": [
            "Model: \"sequential_4\"\n",
            "_________________________________________________________________\n",
            "Layer (type)                 Output Shape              Param #   \n",
            "=================================================================\n",
            "rescaling_2 (Rescaling)      (None, 784)               0         \n",
            "_________________________________________________________________\n",
            "dense_10 (Dense)             (None, 49152)             38584320  \n",
            "_________________________________________________________________\n",
            "reshape_1 (Reshape)          (None, 128, 128, 3)       0         \n",
            "_________________________________________________________________\n",
            "mobilenetv2_1.00_128 (Functi (None, 4, 4, 1280)        2257984   \n",
            "_________________________________________________________________\n",
            "flatten_2 (Flatten)          (None, 20480)             0         \n",
            "_________________________________________________________________\n",
            "dense_11 (Dense)             (None, 10)                204810    \n",
            "=================================================================\n",
            "Total params: 41,047,114\n",
            "Trainable params: 41,013,002\n",
            "Non-trainable params: 34,112\n",
            "_________________________________________________________________\n"
          ],
          "name": "stdout"
        }
      ]
    },
    {
      "cell_type": "markdown",
      "metadata": {
        "id": "UaHLKDLas_dF"
      },
      "source": [
        "### Task 1.5 Performance comparison\n",
        "\n",
        "*(weight ~3%)*\n",
        "\n",
        "How many parameters are trainable in each of the two settings (with and without fine-tuning)? How does the difference impact the training time?\n",
        "\n",
        "\n",
        "Which setting achieved higher accuracy? Why did it work better for this problem? \n",
        "\n",
        "Have we benefitted from using the pretrained model?\n"
      ]
    },
    {
      "cell_type": "markdown",
      "metadata": {
        "id": "QC-nuFpZ4k5T"
      },
      "source": [
        "**Without fine-tuning:**\n",
        "\n",
        "Trainable parameters: 38,789,130\n",
        "\n",
        "non-trainable parameters: 2,257,984\n",
        "\n",
        "**With fine-tuning:**\n",
        "\n",
        "Trainable parameters: 41,013,002\n",
        "\n",
        "non-trainable parameters: 34,112\n",
        "\n",
        "2 million extra parameter is being trained when using fine-tuning. This is computationally expensive compared to former one. Thus, training time is greater. Also, using without fine tuning helps in feature extraction, so there is no redundancy in training parameters again. Meanwhile, in case of fine tuning, though the model is improving till epoch 10, training time will be substantially high."
      ]
    },
    {
      "cell_type": "markdown",
      "metadata": {
        "id": "ouK5NY-_pLDK"
      },
      "source": [
        "## Task 2 Fast training of deep networks\n",
        "\n",
        "*(weight ~20%)*"
      ]
    },
    {
      "cell_type": "markdown",
      "metadata": {
        "id": "LgoOE2W1pdfN"
      },
      "source": [
        "### Task 2.1 Train a highly accurate network for CIFAR10\n",
        "\n",
        "*(weight ~7%)*\n",
        "\n",
        "In this task, you will train deep neural networks on the [CIFAR10 dataset](https://www.cs.toronto.edu/~kriz/cifar.html). Compared with the datasets that you have worked on so far, CIFAR10 represents a relatively larger multi-class classification problem and presents a great opportunity for you to solve a \"harder\" problem.\n",
        "\n"
      ]
    },
    {
      "cell_type": "code",
      "metadata": {
        "id": "gByJox198n12"
      },
      "source": [
        "(train_images, train_labels), (test_images, test_labels) = keras.datasets.cifar10.load_data()"
      ],
      "execution_count": 135,
      "outputs": []
    },
    {
      "cell_type": "code",
      "metadata": {
        "colab": {
          "base_uri": "https://localhost:8080/"
        },
        "id": "Vmb6kGu89DtG",
        "outputId": "d8e2e4a1-e610-404c-e7cd-78175ebe0353"
      },
      "source": [
        "train_images.shape"
      ],
      "execution_count": 136,
      "outputs": [
        {
          "output_type": "execute_result",
          "data": {
            "text/plain": [
              "(50000, 32, 32, 3)"
            ]
          },
          "metadata": {
            "tags": []
          },
          "execution_count": 136
        }
      ]
    },
    {
      "cell_type": "markdown",
      "metadata": {
        "id": "IaD5oqj3lhuI"
      },
      "source": [
        "#### Task 2.1.1 Document the hardware used\n",
        "\n",
        "Before you start, write down your hardware specifications, including \n",
        "\n",
        "- the GPU model, the number of GPUs, and the GPU memory\n",
        "- the CPU model, the number of CPUs, and the CPU clock speed\n",
        "\n",
        "(Hint: you may find commands like `nvidia-smi`, `lscpu` or `psutil` useful.)"
      ]
    },
    {
      "cell_type": "code",
      "metadata": {
        "colab": {
          "base_uri": "https://localhost:8080/"
        },
        "id": "xx1Nrnexrzbn",
        "outputId": "e245467c-d8d6-45a6-9ba3-3c4f63d413a3"
      },
      "source": [
        "pip install psutil"
      ],
      "execution_count": null,
      "outputs": [
        {
          "output_type": "stream",
          "text": [
            "Requirement already satisfied: psutil in /usr/local/lib/python3.7/dist-packages (5.4.8)\n"
          ],
          "name": "stdout"
        }
      ]
    },
    {
      "cell_type": "code",
      "metadata": {
        "colab": {
          "base_uri": "https://localhost:8080/"
        },
        "id": "4_xo25Tpp-5-",
        "outputId": "767345aa-6370-4d28-987f-92e585d78e34"
      },
      "source": [
        "gpu_devices = tf.config.list_physical_devices('GPU')\n",
        "if gpu_devices:\n",
        "  details = tf.config.experimental.get_device_details(gpu_devices[0])\n",
        "  print(\"\\n\\n\",\"-\"*100,\"\\n\\nGPU model:%s \\n\\n\"%details.get('device_name', 'Unknown GPU'),\"-\"*100)\n",
        "#print(\"\\n\\n\",\"-\"*100,\"\\n\\n %str\\n\\n\"%tf.test.gpu_device_name(),\"-\"*100)\n",
        "print(\"\\n\\n\",\"-\"*100,\"\\n\\n Num GPUs Available: %d \\n\\n\"%len(tf.config.experimental.list_physical_devices('GPU')),\"-\"*100)"
      ],
      "execution_count": 47,
      "outputs": [
        {
          "output_type": "stream",
          "text": [
            "\n",
            "\n",
            " ---------------------------------------------------------------------------------------------------- \n",
            "\n",
            "GPU model:Tesla T4 \n",
            "\n",
            " ----------------------------------------------------------------------------------------------------\n",
            "\n",
            "\n",
            " ---------------------------------------------------------------------------------------------------- \n",
            "\n",
            " Num GPUs Available: 1 \n",
            "\n",
            " ----------------------------------------------------------------------------------------------------\n"
          ],
          "name": "stdout"
        }
      ]
    },
    {
      "cell_type": "code",
      "metadata": {
        "colab": {
          "base_uri": "https://localhost:8080/"
        },
        "id": "aWfvi6Wsr1gQ",
        "outputId": "84721aa7-741c-4a79-e89e-cf129c27db9e"
      },
      "source": [
        "import psutil\n",
        "import time\n",
        "model =\"Intel(R) Core(TM) i5-8257U CPU @ 1.40GHz\"\n",
        "print(\"\\n\\n\",\"-\"*100,\"\\n\\n CPU model:%s\\n\\n\"%model,\"-\"*100)\n",
        "print(\"\\n\\n\",\"-\"*100,\"\\n\\n number of CPU:%d\\n\\n\"%psutil.cpu_count(logical=True),\"-\"*100)\n",
        "print(\"\\n\\n\",\"-\"*100,\"\\n\\n CPU clock speed:CPU @ 1.40GHz i.e. 1.4 billion cycles per second \\n\\n\",\"-\"*100)"
      ],
      "execution_count": 137,
      "outputs": [
        {
          "output_type": "stream",
          "text": [
            "\n",
            "\n",
            " ---------------------------------------------------------------------------------------------------- \n",
            "\n",
            " CPU model:Intel(R) Core(TM) i5-8257U CPU @ 1.40GHz\n",
            "\n",
            " ----------------------------------------------------------------------------------------------------\n",
            "\n",
            "\n",
            " ---------------------------------------------------------------------------------------------------- \n",
            "\n",
            " number of CPU:2\n",
            "\n",
            " ----------------------------------------------------------------------------------------------------\n",
            "\n",
            "\n",
            " ---------------------------------------------------------------------------------------------------- \n",
            "\n",
            " CPU clock speed:CPU @ 1.40GHz i.e. 1.4 billion cycles per second \n",
            "\n",
            " ----------------------------------------------------------------------------------------------------\n"
          ],
          "name": "stdout"
        }
      ]
    },
    {
      "cell_type": "markdown",
      "metadata": {
        "id": "adN9Tq-6lyG-"
      },
      "source": [
        "#### Task 2.1.2 Train a \"shallow\" ConvNet\n",
        "\n",
        "Build a ConvNet with fewer than 10 layers. Train the network until it converges. You will use this network as a baseline for the later experiments. \n",
        "\n",
        "- Plot the training and validation history. \n",
        "- Report the testing accuracy. "
      ]
    },
    {
      "cell_type": "code",
      "metadata": {
        "colab": {
          "base_uri": "https://localhost:8080/"
        },
        "id": "UP0tJZqW--yW",
        "outputId": "3301f2f5-4978-4833-9ddb-55c6a94f4b8f"
      },
      "source": [
        "#convert labels into float datatype\n",
        "from keras.utils.np_utils import to_categorical\n",
        "train_labels = to_categorical(train_labels)\n",
        "test_labels = to_categorical(test_labels)\n",
        "train_labels"
      ],
      "execution_count": 138,
      "outputs": [
        {
          "output_type": "execute_result",
          "data": {
            "text/plain": [
              "array([[0., 0., 0., ..., 0., 0., 0.],\n",
              "       [0., 0., 0., ..., 0., 0., 1.],\n",
              "       [0., 0., 0., ..., 0., 0., 1.],\n",
              "       ...,\n",
              "       [0., 0., 0., ..., 0., 0., 1.],\n",
              "       [0., 1., 0., ..., 0., 0., 0.],\n",
              "       [0., 1., 0., ..., 0., 0., 0.]], dtype=float32)"
            ]
          },
          "metadata": {
            "tags": []
          },
          "execution_count": 138
        }
      ]
    },
    {
      "cell_type": "code",
      "metadata": {
        "colab": {
          "base_uri": "https://localhost:8080/"
        },
        "id": "GcNKc4mg_OoN",
        "outputId": "32c4c3b7-d300-429c-8653-e0e23d94d149"
      },
      "source": [
        "batch_size = 128\n",
        "train_size = round(train_images.shape[0]*0.9,None)\n",
        "train_size"
      ],
      "execution_count": 141,
      "outputs": [
        {
          "output_type": "execute_result",
          "data": {
            "text/plain": [
              "45000"
            ]
          },
          "metadata": {
            "tags": []
          },
          "execution_count": 141
        }
      ]
    },
    {
      "cell_type": "code",
      "metadata": {
        "id": "ykuRjsrq_JWz"
      },
      "source": [
        "# split validation and train from training data\n",
        "x_val = train_images[train_size:]\n",
        "y_val = train_labels[train_size:]\n",
        "x_train = train_images[:train_size]\n",
        "y_train = train_labels[:train_size]"
      ],
      "execution_count": 142,
      "outputs": []
    },
    {
      "cell_type": "code",
      "metadata": {
        "colab": {
          "base_uri": "https://localhost:8080/"
        },
        "id": "DAzdl_Bu_Yqu",
        "outputId": "b58c5c0b-3f9a-4dc0-b672-1684e2a877aa"
      },
      "source": [
        "train_ds = tf.data.Dataset.from_tensor_slices((x_train,y_train))\n",
        "val_ds = tf.data.Dataset.from_tensor_slices((x_val,y_val))\n",
        "train_ds = configure_for_performance(train_ds)\n",
        "val_ds = configure_for_performance(val_ds)\n",
        "train_ds"
      ],
      "execution_count": 143,
      "outputs": [
        {
          "output_type": "execute_result",
          "data": {
            "text/plain": [
              "<BatchDataset shapes: ((None, 32, 32, 3), (None, 10)), types: (tf.uint8, tf.float32)>"
            ]
          },
          "metadata": {
            "tags": []
          },
          "execution_count": 143
        }
      ]
    },
    {
      "cell_type": "code",
      "metadata": {
        "id": "1zdHb8rIZtUC"
      },
      "source": [
        "test_ds=tf.data.Dataset.from_tensor_slices((test_images,test_labels))\n",
        "test_ds = configure_for_performance(test_ds)"
      ],
      "execution_count": 144,
      "outputs": []
    },
    {
      "cell_type": "code",
      "metadata": {
        "id": "wYdutgIo9UB3"
      },
      "source": [
        "IMAGE_SIZE = 32\n",
        "def convNet():\n",
        "  model = models.Sequential()\n",
        "  model.add(layers.experimental.preprocessing.Rescaling(1./255))\n",
        "  model.add(layers.Conv2D(32, (3, 3), activation='relu',\n",
        "                          input_shape=(IMAGE_SIZE, IMAGE_SIZE,3)))\n",
        "  #model.add(layers.BatchNormalization(axis=1))\n",
        "  model.add(layers.Conv2D(64, (3, 3), activation='relu'))\n",
        "  model.add(layers.AveragePooling2D((2, 2)))\n",
        "  model.add(layers.Conv2D(128, (3, 3), activation='relu'))\n",
        "  model.add(layers.AveragePooling2D((2, 2)))\n",
        "  model.add(layers.Conv2D(256, (3, 3), activation='relu'))\n",
        "  model.add(layers.AveragePooling2D((2, 2)))\n",
        "  model.add(layers.Flatten())\n",
        "  #model.add(layers.Dense(64,activation='relu'))\n",
        "  model.add(layers.Dense(10, activation='softmax'))\n",
        "  model.compile(loss='categorical_crossentropy',\n",
        "              optimizer=optimizers.Adam(),\n",
        "              metrics=['acc'])\n",
        "  return model\n",
        "\n",
        "model = convNet()  "
      ],
      "execution_count": 81,
      "outputs": []
    },
    {
      "cell_type": "code",
      "metadata": {
        "id": "juvJ2ij_toRF"
      },
      "source": [
        "#patience is set to 10 so that model will wait 10 epoch for training to improve.\n",
        "callbacks=tf.keras.callbacks.EarlyStopping(\n",
        "    monitor=\"val_loss\",\n",
        "    patience=10,\n",
        "    mode=\"min\",\n",
        "    restore_best_weights=True,\n",
        ")"
      ],
      "execution_count": 82,
      "outputs": []
    },
    {
      "cell_type": "code",
      "metadata": {
        "colab": {
          "base_uri": "https://localhost:8080/"
        },
        "id": "7KCxnVAN-9Dv",
        "outputId": "5727bbf7-2072-4499-f600-127f10edd2e9"
      },
      "source": [
        "t0=time.process_time()\n",
        "print(\"time0:\",t0)\n",
        "history = model.fit(\n",
        "          train_ds, epochs=1000, \n",
        "          validation_data=val_ds,\n",
        "          callbacks=[callbacks]\n",
        ")\n",
        "print(time.process_time())"
      ],
      "execution_count": 83,
      "outputs": [
        {
          "output_type": "stream",
          "text": [
            "time0: 2969.479687625\n",
            "Epoch 1/1000\n",
            "704/704 [==============================] - 6s 7ms/step - loss: 1.7985 - acc: 0.3382 - val_loss: 1.3644 - val_acc: 0.5170\n",
            "Epoch 2/1000\n",
            "704/704 [==============================] - 5s 7ms/step - loss: 1.2633 - acc: 0.5522 - val_loss: 1.0810 - val_acc: 0.6258\n",
            "Epoch 3/1000\n",
            "704/704 [==============================] - 5s 7ms/step - loss: 1.0630 - acc: 0.6314 - val_loss: 0.9600 - val_acc: 0.6724\n",
            "Epoch 4/1000\n",
            "704/704 [==============================] - 5s 7ms/step - loss: 0.9393 - acc: 0.6761 - val_loss: 0.8781 - val_acc: 0.6990\n",
            "Epoch 5/1000\n",
            "704/704 [==============================] - 5s 7ms/step - loss: 0.8452 - acc: 0.7075 - val_loss: 0.8185 - val_acc: 0.7142\n",
            "Epoch 6/1000\n",
            "704/704 [==============================] - 5s 7ms/step - loss: 0.7668 - acc: 0.7346 - val_loss: 0.7957 - val_acc: 0.7268\n",
            "Epoch 7/1000\n",
            "704/704 [==============================] - 5s 7ms/step - loss: 0.6987 - acc: 0.7586 - val_loss: 0.8010 - val_acc: 0.7272\n",
            "Epoch 8/1000\n",
            "704/704 [==============================] - 5s 7ms/step - loss: 0.6387 - acc: 0.7792 - val_loss: 0.7950 - val_acc: 0.7346\n",
            "Epoch 9/1000\n",
            "704/704 [==============================] - 5s 7ms/step - loss: 0.5855 - acc: 0.7971 - val_loss: 0.7828 - val_acc: 0.7408\n",
            "Epoch 10/1000\n",
            "704/704 [==============================] - 5s 7ms/step - loss: 0.5366 - acc: 0.8148 - val_loss: 0.7801 - val_acc: 0.7500\n",
            "Epoch 11/1000\n",
            "704/704 [==============================] - 5s 7ms/step - loss: 0.4903 - acc: 0.8333 - val_loss: 0.8035 - val_acc: 0.7442\n",
            "Epoch 12/1000\n",
            "704/704 [==============================] - 5s 7ms/step - loss: 0.4492 - acc: 0.8467 - val_loss: 0.8392 - val_acc: 0.7384\n",
            "Epoch 13/1000\n",
            "704/704 [==============================] - 5s 7ms/step - loss: 0.4095 - acc: 0.8581 - val_loss: 0.8358 - val_acc: 0.7456\n",
            "Epoch 14/1000\n",
            "704/704 [==============================] - 5s 7ms/step - loss: 0.3801 - acc: 0.8669 - val_loss: 0.8757 - val_acc: 0.7512\n",
            "Epoch 15/1000\n",
            "704/704 [==============================] - 5s 7ms/step - loss: 0.3490 - acc: 0.8781 - val_loss: 0.9359 - val_acc: 0.7452\n",
            "Epoch 16/1000\n",
            "704/704 [==============================] - 5s 7ms/step - loss: 0.3253 - acc: 0.8861 - val_loss: 1.0247 - val_acc: 0.7350\n",
            "Epoch 17/1000\n",
            "704/704 [==============================] - 5s 7ms/step - loss: 0.3106 - acc: 0.8905 - val_loss: 1.0672 - val_acc: 0.7334\n",
            "Epoch 18/1000\n",
            "704/704 [==============================] - 5s 7ms/step - loss: 0.2962 - acc: 0.8958 - val_loss: 1.1198 - val_acc: 0.7278\n",
            "Epoch 19/1000\n",
            "704/704 [==============================] - 5s 7ms/step - loss: 0.2731 - acc: 0.9025 - val_loss: 1.2274 - val_acc: 0.7178\n",
            "Epoch 20/1000\n",
            "704/704 [==============================] - 5s 7ms/step - loss: 0.2640 - acc: 0.9051 - val_loss: 1.2368 - val_acc: 0.7276\n",
            "3069.086506849\n"
          ],
          "name": "stdout"
        }
      ]
    },
    {
      "cell_type": "code",
      "metadata": {
        "colab": {
          "base_uri": "https://localhost:8080/",
          "height": 295
        },
        "id": "I2f_c8ZnYJhP",
        "outputId": "01bcf821-366c-4618-a458-41aa1d764bca"
      },
      "source": [
        "acc = history.history['acc']\n",
        "val_acc = history.history['val_acc']\n",
        "loss = history.history['loss']\n",
        "val_loss = history.history['val_loss']\n",
        "epochs = range(1, len(acc) + 1)\n",
        "\n",
        "plt.figure(figsize=(15,4))\n",
        "\n",
        "ax1 = plt.subplot(1, 2, 1)\n",
        "plt.plot(epochs, loss, label='Training loss')\n",
        "plt.plot(epochs, val_loss, label='Validation loss')\n",
        "plt.fill_between(epochs, loss,val_loss,color='g',alpha=.1)\n",
        "\n",
        "plt.title('Training and validation loss')\n",
        "plt.xlabel('Epochs')\n",
        "plt.ylabel('Loss')\n",
        "plt.legend()\n",
        "\n",
        "ax2 = plt.subplot(1, 2, 2)\n",
        "plt.plot(epochs, acc, label='Training accuracy')\n",
        "plt.plot(epochs, val_acc, label='Validation accuracy')\n",
        "plt.fill_between(epochs, acc,val_acc,color='g',alpha=.1)\n",
        "plt.title('Training and validation accuracy')\n",
        "plt.xlabel('Epochs')\n",
        "plt.ylabel('Accuracy')\n",
        "plt.legend()\n",
        "plt.show()"
      ],
      "execution_count": 84,
      "outputs": [
        {
          "output_type": "display_data",
          "data": {
            "image/png": "[encoded data removed]",
            "text/plain": [
              "<Figure size 1080x288 with 2 Axes>"
            ]
          },
          "metadata": {
            "tags": [],
            "needs_background": "light"
          }
        }
      ]
    },
    {
      "cell_type": "code",
      "metadata": {
        "colab": {
          "base_uri": "https://localhost:8080/"
        },
        "id": "zK60accvY3f6",
        "outputId": "97a5504f-b3a8-4ecf-d90a-2581c5a23834"
      },
      "source": [
        "model.evaluate(test_ds)"
      ],
      "execution_count": 85,
      "outputs": [
        {
          "output_type": "stream",
          "text": [
            "157/157 [==============================] - 1s 3ms/step - loss: 0.8341 - acc: 0.7282\n"
          ],
          "name": "stdout"
        },
        {
          "output_type": "execute_result",
          "data": {
            "text/plain": [
              "[0.8341469764709473, 0.7282000184059143]"
            ]
          },
          "metadata": {
            "tags": []
          },
          "execution_count": 85
        }
      ]
    },
    {
      "cell_type": "markdown",
      "metadata": {
        "id": "c-ZUo-PDabOf"
      },
      "source": [
        "#### Task 2.1.3 Train a ResNet\n",
        "\n",
        "Train a residual neural network (ResNet) on the CIFAR10 training data and report the test accuracy and the training time.\n",
        "\n",
        "The ResNet is a popular network architecture for image classification. You may find more information about how ResNet works by reading this [paper](https://arxiv.org/abs/1512.03385).\n",
        "\n",
        "\n",
        "*(You may implement a resnet model or use an existing implementation. In either case, you should not use pretrained network weights.)*"
      ]
    },
    {
      "cell_type": "code",
      "metadata": {
        "id": "icQIqSA5acy_"
      },
      "source": [
        "def identity_block(X, f, filters, stage, block):\n",
        "    \"\"\"\n",
        "    Implementation of the identity block as defined in Figure 3\n",
        "    \n",
        "    Arguments:\n",
        "    X -- input tensor of shape (m, n_H_prev, n_W_prev, n_C_prev)\n",
        "    f -- integer, specifying the shape of the middle CONV's window for the main path\n",
        "    filters -- python list of integers, defining the number of filters in the CONV layers of the main path\n",
        "    stage -- integer, used to name the layers, depending on their position in the network\n",
        "    block -- string/character, used to name the layers, depending on their position in the network\n",
        "    \n",
        "    Returns:\n",
        "    X -- output of the identity block, tensor of shape (n_H, n_W, n_C)\n",
        "    \"\"\"\n",
        "    \n",
        "    # defining name basis\n",
        "    conv_name_base = 'res' + str(stage) + block + '_branch'\n",
        "    bn_name_base = 'bn' + str(stage) + block + '_branch'\n",
        "    \n",
        "    # Retrieve Filters\n",
        "    F1, F2, F3 = filters\n",
        "    \n",
        "    # Save the input value. You'll need this later to add back to the main path. \n",
        "    X_shortcut = X\n",
        "    \n",
        "    # First component of main path\n",
        "    X = Conv2D(F1, (1, 1), strides = (1,1),padding='valid', name = conv_name_base + '2a', kernel_initializer = glorot_uniform(seed=0))(X)\n",
        "    X = BatchNormalization(axis = 3, name = bn_name_base + '2a')(X)\n",
        "    X = Activation('relu')(X)\n",
        "    \n",
        "    # Second component of main path (≈3 lines)\n",
        "    X = Conv2D(F2, (f, f), strides = (1, 1), padding = 'same', name = conv_name_base + '2b', kernel_initializer = glorot_uniform(seed=0))(X)\n",
        "    X = BatchNormalization(axis = 3, name = bn_name_base + '2b')(X)\n",
        "    X = Activation('relu')(X)\n",
        "    \n",
        "    # Third component of main path (≈2 lines)\n",
        "    X = Conv2D(F3, (1, 1), strides = (1, 1), padding = 'valid', name = conv_name_base + '2c', kernel_initializer = glorot_uniform(seed=0))(X)\n",
        "    X = BatchNormalization(axis = 3, name = bn_name_base + '2c')(X)\n",
        "\n",
        "    # Final step: Add shortcut value to main path, and pass it through a RELU activation (≈2 lines)\n",
        "    X = Add()([X, X_shortcut])\n",
        "    X = Activation('relu')(X)\n",
        "    \n",
        "    ### END CODE HERE ###\n",
        "    \n",
        "    return X"
      ],
      "execution_count": 86,
      "outputs": []
    },
    {
      "cell_type": "code",
      "metadata": {
        "id": "wA2nBJ-eeLnF"
      },
      "source": [
        "#convolutional_block\n",
        "\n",
        "def convolutional_block(X, f, filters, stage, block, s = 2):\n",
        "    \"\"\"\n",
        "    Implementation of the convolutional block as defined in Figure 4\n",
        "    \n",
        "    Arguments:\n",
        "    X -- input tensor of shape (m, n_H_prev, n_W_prev, n_C_prev)\n",
        "    f -- integer, specifying the shape of the middle CONV's window for the main path\n",
        "    filters -- python list of integers, defining the number of filters in the CONV layers of the main path\n",
        "    stage -- integer, used to name the layers, depending on their position in the network\n",
        "    block -- string/character, used to name the layers, depending on their position in the network\n",
        "    s -- Integer, specifying the stride to be used\n",
        "    \n",
        "    Returns:\n",
        "    X -- output of the convolutional block, tensor of shape (n_H, n_W, n_C)\n",
        "    \"\"\"\n",
        "    \n",
        "    # defining name basis\n",
        "    conv_name_base = 'res' + str(stage) + block + '_branch'\n",
        "    bn_name_base = 'bn' + str(stage) + block + '_branch'\n",
        "    \n",
        "    # Retrieve Filters\n",
        "    F1, F2, F3 = filters\n",
        "    \n",
        "    # Save the input value\n",
        "    X_shortcut = X\n",
        "\n",
        "\n",
        "    ##### MAIN PATH #####\n",
        "    # First component of main path \n",
        "    X = Conv2D(F1, (1, 1), strides = (s,s),padding='valid', name = conv_name_base + '2a', kernel_initializer = glorot_uniform(seed=0))(X)\n",
        "    X = BatchNormalization(axis = 3, name = bn_name_base + '2a')(X)\n",
        "    X = Activation('relu')(X)\n",
        "\n",
        "    # Second component of main path (≈3 lines)\n",
        "    X = Conv2D(F2, (f, f), strides = (1,1), padding='same', name = conv_name_base + '2b', kernel_initializer = glorot_uniform(seed=0))(X)\n",
        "    X = BatchNormalization(axis = 3, name = bn_name_base + '2b')(X)\n",
        "    X = Activation('relu')(X)\n",
        "\n",
        "    # Third component of main path (≈2 lines)\n",
        "    X = Conv2D(F3, (1, 1), strides = (1,1), padding='valid', name = conv_name_base + '2c', kernel_initializer = glorot_uniform(seed=0))(X)\n",
        "    X = BatchNormalization(axis = 3, name = bn_name_base + '2c')(X)\n",
        "\n",
        "    ##### SHORTCUT PATH #### (≈2 lines)\n",
        "    X_shortcut = Conv2D(F3, (1, 1), strides = (s,s), padding='valid', name = conv_name_base + '1', kernel_initializer = glorot_uniform(seed=0))(X_shortcut)\n",
        "    X_shortcut = BatchNormalization(axis = 3, name = bn_name_base + '1')(X_shortcut)\n",
        "\n",
        "    # Final step: Add shortcut value to main path, and pass it through a RELU activation (≈2 lines)\n",
        "    X = Add()([X, X_shortcut])\n",
        "    X = Activation('relu')(X)\n",
        "    \n",
        "    ### END CODE HERE ###\n",
        "    \n",
        "    return X"
      ],
      "execution_count": 87,
      "outputs": []
    },
    {
      "cell_type": "code",
      "metadata": {
        "id": "axTjJkzQeURO"
      },
      "source": [
        "def ResNet32(input_shape = (32, 32, 3), classes = 6):\n",
        "    \"\"\"\n",
        "    Implementation of the popular ResNet50 the following architecture:\n",
        "    CONV2D -> BATCHNORM -> RELU -> MAXPOOL -> CONVBLOCK -> IDBLOCK*2 -> CONVBLOCK -> IDBLOCK*3\n",
        "    -> CONVBLOCK -> IDBLOCK*5 -> CONVBLOCK -> IDBLOCK*2 -> AVGPOOL -> TOPLAYER\n",
        "\n",
        "    Arguments:\n",
        "    input_shape -- shape of the images of the dataset\n",
        "    classes -- integer, number of classes\n",
        "\n",
        "    Returns:\n",
        "    model -- a Model() instance in Keras\n",
        "    \"\"\"\n",
        "    \n",
        "    # Define the input as a tensor with shape input_shape\n",
        "    X_input = Input(input_shape)\n",
        "\n",
        "    \n",
        "    # Zero-Padding\n",
        "    X = ZeroPadding2D((3, 3))(X_input)\n",
        "    #resizing\n",
        "    X = layers.experimental.preprocessing.Rescaling(1./255)(X)\n",
        "    \n",
        "    # Stage 1\n",
        "    X = Conv2D(32, (7, 7), strides = (2, 2), name = 'conv1', kernel_initializer = glorot_uniform(seed=0))(X)\n",
        "    X = BatchNormalization(axis = 3, name = 'bn_conv1')(X)\n",
        "    X = Activation('relu')(X)\n",
        "    X = MaxPooling2D((3, 3), strides=(2, 2))(X)\n",
        "\n",
        "    # Stage 2\n",
        "    X = convolutional_block(X, f = 3, filters = [32, 32, 64], stage = 2, block='a', s = 1)\n",
        "    X = identity_block(X, 3, [32, 32, 64], stage=2, block='b')\n",
        "    X = identity_block(X, 3, [32, 32, 64], stage=2, block='c')\n",
        "\n",
        "    # Stage 3 (≈4 lines)\n",
        "    X = convolutional_block(X, f = 3, filters = [64,64,128], stage = 3, block = 'a', s = 2)\n",
        "    X = identity_block(X, 3, [64,64,128], stage = 3, block = 'b')\n",
        "    X = identity_block(X, 3, [64,64,128], stage=3, block='c')\n",
        "\n",
        "    # Stage 4 (≈6 lines)\n",
        "    X = convolutional_block(X, f = 3, filters = [128,128,256], stage = 4, block = 'a', s = 2)\n",
        "    X = identity_block(X, 3, [128,128,256], stage = 4, block = 'b')\n",
        "    X = identity_block(X, 3, [128,128,256], stage=4, block='c')\n",
        "    X = identity_block(X, 3, [128,128,256], stage=4, block='d')\n",
        "   \n",
        "    # AVGPOOL (≈1 line). Use \"X = AveragePooling2D(...)(X)\"\n",
        "    X = AveragePooling2D(pool_size=(2,2), name = 'avg_pool')(X)\n",
        "\n",
        "    # output layer\n",
        "    X = Flatten()(X)\n",
        "    X = Dense(classes, activation='softmax', name='fc' + str(classes), kernel_initializer = glorot_uniform(seed=0))(X)\n",
        "    \n",
        "    \n",
        "    # Create model\n",
        "    model = Model(inputs = X_input, outputs = X, name='ResNet50')\n",
        "\n",
        "    return model"
      ],
      "execution_count": 88,
      "outputs": []
    },
    {
      "cell_type": "code",
      "metadata": {
        "id": "dvZaWQZWedGd"
      },
      "source": [
        "model = ResNet32(input_shape = (32, 32, 3), classes = 10)"
      ],
      "execution_count": 145,
      "outputs": []
    },
    {
      "cell_type": "code",
      "metadata": {
        "id": "DutXP86LhWeD"
      },
      "source": [
        "model.compile(optimizer='adam', loss='categorical_crossentropy', metrics=['accuracy'])"
      ],
      "execution_count": 146,
      "outputs": []
    },
    {
      "cell_type": "code",
      "metadata": {
        "id": "shm4uSfHjbMd"
      },
      "source": [
        "callbacks=tf.keras.callbacks.EarlyStopping(\n",
        "    monitor=\"val_loss\",\n",
        "    patience=10,\n",
        "    mode=\"min\",\n",
        "    restore_best_weights=True,\n",
        ")"
      ],
      "execution_count": 147,
      "outputs": []
    },
    {
      "cell_type": "code",
      "metadata": {
        "colab": {
          "base_uri": "https://localhost:8080/"
        },
        "id": "rpJGROpEhdxs",
        "outputId": "16936bc5-93eb-4a86-b094-3fdf1bef40c3"
      },
      "source": [
        "t0=time.process_time()\n",
        "history = model.fit(\n",
        "          train_ds, epochs=10, \n",
        "          validation_data=val_ds,\n",
        ")\n",
        "print(\"training time:\",time.process_time()-t0)"
      ],
      "execution_count": 148,
      "outputs": [
        {
          "output_type": "stream",
          "text": [
            "Epoch 1/10\n",
            "352/352 [==============================] - 10s 20ms/step - loss: 2.0741 - accuracy: 0.3285 - val_loss: 2.7265 - val_accuracy: 0.2372\n",
            "Epoch 2/10\n",
            "352/352 [==============================] - 6s 18ms/step - loss: 1.3296 - accuracy: 0.5263 - val_loss: 1.6488 - val_accuracy: 0.4626\n",
            "Epoch 3/10\n",
            "352/352 [==============================] - 6s 18ms/step - loss: 1.1372 - accuracy: 0.5973 - val_loss: 1.4925 - val_accuracy: 0.4960\n",
            "Epoch 4/10\n",
            "352/352 [==============================] - 6s 18ms/step - loss: 0.9983 - accuracy: 0.6454 - val_loss: 2.2433 - val_accuracy: 0.3460\n",
            "Epoch 5/10\n",
            "352/352 [==============================] - 6s 18ms/step - loss: 0.8882 - accuracy: 0.6843 - val_loss: 1.3689 - val_accuracy: 0.5552\n",
            "Epoch 6/10\n",
            "352/352 [==============================] - 6s 18ms/step - loss: 0.7966 - accuracy: 0.7178 - val_loss: 1.4847 - val_accuracy: 0.5332\n",
            "Epoch 7/10\n",
            "352/352 [==============================] - 6s 18ms/step - loss: 0.7083 - accuracy: 0.7479 - val_loss: 1.9834 - val_accuracy: 0.4890\n",
            "Epoch 8/10\n",
            "352/352 [==============================] - 6s 18ms/step - loss: 0.6419 - accuracy: 0.7744 - val_loss: 1.6377 - val_accuracy: 0.5676\n",
            "Epoch 9/10\n",
            "352/352 [==============================] - 6s 18ms/step - loss: 0.5797 - accuracy: 0.7925 - val_loss: 1.4760 - val_accuracy: 0.5906\n",
            "Epoch 10/10\n",
            "352/352 [==============================] - 6s 18ms/step - loss: 0.5302 - accuracy: 0.8110 - val_loss: 2.0184 - val_accuracy: 0.5042\n",
            "training time: 73.04032728900074\n"
          ],
          "name": "stdout"
        }
      ]
    },
    {
      "cell_type": "code",
      "metadata": {
        "colab": {
          "base_uri": "https://localhost:8080/"
        },
        "id": "lap0moYXD3z6",
        "outputId": "7eb92634-11ba-46c9-ac68-7a4c2c7727d1"
      },
      "source": [
        "model.evaluate(test_ds)"
      ],
      "execution_count": 149,
      "outputs": [
        {
          "output_type": "stream",
          "text": [
            "79/79 [==============================] - 1s 7ms/step - loss: 1.9711 - accuracy: 0.5032\n"
          ],
          "name": "stdout"
        },
        {
          "output_type": "execute_result",
          "data": {
            "text/plain": [
              "[1.9711068868637085, 0.5031999945640564]"
            ]
          },
          "metadata": {
            "tags": []
          },
          "execution_count": 149
        }
      ]
    },
    {
      "cell_type": "markdown",
      "metadata": {
        "id": "AH6ZBiECzS75"
      },
      "source": [
        "### Task 2.2 Fast training of ResNet\n",
        "\n",
        "*(weight ~10%)*\n",
        "\n",
        "In this task, you will experiment with different ways to reduce the time for training your ResNet on CIFAR10. There are different ways to speed up neural network training; below are two ideas. Please select at least one idea to implement. Explain the experiment steps and report the final performance and training time.\n",
        "\n",
        "#### Option 1. Learning rate schedule\n",
        "\n",
        "Use a learning rate schedule for the training. Some popular learning rate schedules include \n",
        "\n",
        "- the Step Decay learning rate (e.g., see [here](https://github.com/kuangliu/pytorch-cifar))\n",
        "- [Cyclical learning rates](https://arxiv.org/abs/1506.01186)\n",
        "- [The exponential learning rate](https://openreview.net/forum?id=rJg8TeSFDH) \n",
        "\n",
        "Also, Keras provides [some convenient functions](https://www.tensorflow.org/api_docs/python/tf/keras/optimizers/schedules) that you can use.\n",
        "\n",
        "\n",
        "#### Option 2. Look ahead optimiser\n",
        "\n",
        "Read [this paper](https://arxiv.org/abs/1907.08610) and implement the Lookahead optimiser."
      ]
    },
    {
      "cell_type": "code",
      "metadata": {
        "colab": {
          "base_uri": "https://localhost:8080/"
        },
        "id": "gOWJlih0uhgd",
        "outputId": "c2e8fd52-6467-47fd-c9b7-b786789f2fee"
      },
      "source": [
        "pip install tensorflow-addons"
      ],
      "execution_count": 94,
      "outputs": [
        {
          "output_type": "stream",
          "text": [
            "Collecting tensorflow-addons\n",
            "\u001b[?25l  Downloading https://files.pythonhosted.org/packages/66/4b/e893d194e626c24b3df2253066aa418f46a432fdb68250cde14bf9bb0700/tensorflow_addons-0.13.0-cp37-cp37m-manylinux2010_x86_64.whl (679kB)\n",
            "\r\u001b[K     |▌                               | 10kB 23.6MB/s eta 0:00:01\r\u001b[K     |█                               | 20kB 31.1MB/s eta 0:00:01\r\u001b[K     |█▌                              | 30kB 36.0MB/s eta 0:00:01\r\u001b[K     |██                              | 40kB 32.0MB/s eta 0:00:01\r\u001b[K     |██▍                             | 51kB 31.0MB/s eta 0:00:01\r\u001b[K     |███                             | 61kB 32.6MB/s eta 0:00:01\r\u001b[K     |███▍                            | 71kB 28.3MB/s eta 0:00:01\r\u001b[K     |███▉                            | 81kB 29.4MB/s eta 0:00:01\r\u001b[K     |████▍                           | 92kB 31.1MB/s eta 0:00:01\r\u001b[K     |████▉                           | 102kB 28.9MB/s eta 0:00:01\r\u001b[K     |█████▎                          | 112kB 28.9MB/s eta 0:00:01\r\u001b[K     |█████▉                          | 122kB 28.9MB/s eta 0:00:01\r\u001b[K     |██████▎                         | 133kB 28.9MB/s eta 0:00:01\r\u001b[K     |██████▊                         | 143kB 28.9MB/s eta 0:00:01\r\u001b[K     |███████▎                        | 153kB 28.9MB/s eta 0:00:01\r\u001b[K     |███████▊                        | 163kB 28.9MB/s eta 0:00:01\r\u001b[K     |████████▏                       | 174kB 28.9MB/s eta 0:00:01\r\u001b[K     |████████▊                       | 184kB 28.9MB/s eta 0:00:01\r\u001b[K     |█████████▏                      | 194kB 28.9MB/s eta 0:00:01\r\u001b[K     |█████████▋                      | 204kB 28.9MB/s eta 0:00:01\r\u001b[K     |██████████▏                     | 215kB 28.9MB/s eta 0:00:01\r\u001b[K     |██████████▋                     | 225kB 28.9MB/s eta 0:00:01\r\u001b[K     |███████████                     | 235kB 28.9MB/s eta 0:00:01\r\u001b[K     |███████████▋                    | 245kB 28.9MB/s eta 0:00:01\r\u001b[K     |████████████                    | 256kB 28.9MB/s eta 0:00:01\r\u001b[K     |████████████▌                   | 266kB 28.9MB/s eta 0:00:01\r\u001b[K     |█████████████                   | 276kB 28.9MB/s eta 0:00:01\r\u001b[K     |█████████████▌                  | 286kB 28.9MB/s eta 0:00:01\r\u001b[K     |██████████████                  | 296kB 28.9MB/s eta 0:00:01\r\u001b[K     |██████████████▌                 | 307kB 28.9MB/s eta 0:00:01\r\u001b[K     |███████████████                 | 317kB 28.9MB/s eta 0:00:01\r\u001b[K     |███████████████▍                | 327kB 28.9MB/s eta 0:00:01\r\u001b[K     |████████████████                | 337kB 28.9MB/s eta 0:00:01\r\u001b[K     |████████████████▍               | 348kB 28.9MB/s eta 0:00:01\r\u001b[K     |████████████████▉               | 358kB 28.9MB/s eta 0:00:01\r\u001b[K     |█████████████████▍              | 368kB 28.9MB/s eta 0:00:01\r\u001b[K     |█████████████████▉              | 378kB 28.9MB/s eta 0:00:01\r\u001b[K     |██████████████████▎             | 389kB 28.9MB/s eta 0:00:01\r\u001b[K     |██████████████████▉             | 399kB 28.9MB/s eta 0:00:01\r\u001b[K     |███████████████████▎            | 409kB 28.9MB/s eta 0:00:01\r\u001b[K     |███████████████████▊            | 419kB 28.9MB/s eta 0:00:01\r\u001b[K     |████████████████████▎           | 430kB 28.9MB/s eta 0:00:01\r\u001b[K     |████████████████████▊           | 440kB 28.9MB/s eta 0:00:01\r\u001b[K     |█████████████████████▏          | 450kB 28.9MB/s eta 0:00:01\r\u001b[K     |█████████████████████▊          | 460kB 28.9MB/s eta 0:00:01\r\u001b[K     |██████████████████████▏         | 471kB 28.9MB/s eta 0:00:01\r\u001b[K     |██████████████████████▋         | 481kB 28.9MB/s eta 0:00:01\r\u001b[K     |███████████████████████▏        | 491kB 28.9MB/s eta 0:00:01\r\u001b[K     |███████████████████████▋        | 501kB 28.9MB/s eta 0:00:01\r\u001b[K     |████████████████████████        | 512kB 28.9MB/s eta 0:00:01\r\u001b[K     |████████████████████████▋       | 522kB 28.9MB/s eta 0:00:01\r\u001b[K     |█████████████████████████       | 532kB 28.9MB/s eta 0:00:01\r\u001b[K     |█████████████████████████▌      | 542kB 28.9MB/s eta 0:00:01\r\u001b[K     |██████████████████████████      | 552kB 28.9MB/s eta 0:00:01\r\u001b[K     |██████████████████████████▌     | 563kB 28.9MB/s eta 0:00:01\r\u001b[K     |███████████████████████████     | 573kB 28.9MB/s eta 0:00:01\r\u001b[K     |███████████████████████████▌    | 583kB 28.9MB/s eta 0:00:01\r\u001b[K     |████████████████████████████    | 593kB 28.9MB/s eta 0:00:01\r\u001b[K     |████████████████████████████▍   | 604kB 28.9MB/s eta 0:00:01\r\u001b[K     |█████████████████████████████   | 614kB 28.9MB/s eta 0:00:01\r\u001b[K     |█████████████████████████████▍  | 624kB 28.9MB/s eta 0:00:01\r\u001b[K     |█████████████████████████████▉  | 634kB 28.9MB/s eta 0:00:01\r\u001b[K     |██████████████████████████████▍ | 645kB 28.9MB/s eta 0:00:01\r\u001b[K     |██████████████████████████████▉ | 655kB 28.9MB/s eta 0:00:01\r\u001b[K     |███████████████████████████████▎| 665kB 28.9MB/s eta 0:00:01\r\u001b[K     |███████████████████████████████▉| 675kB 28.9MB/s eta 0:00:01\r\u001b[K     |████████████████████████████████| 686kB 28.9MB/s \n",
            "\u001b[?25hRequirement already satisfied: typeguard>=2.7 in /usr/local/lib/python3.7/dist-packages (from tensorflow-addons) (2.7.1)\n",
            "Installing collected packages: tensorflow-addons\n",
            "Successfully installed tensorflow-addons-0.13.0\n"
          ],
          "name": "stdout"
        }
      ]
    },
    {
      "cell_type": "code",
      "metadata": {
        "id": "4oJi5OQxuY4o"
      },
      "source": [
        "import tensorflow_addons as tfa"
      ],
      "execution_count": 95,
      "outputs": []
    },
    {
      "cell_type": "code",
      "metadata": {
        "id": "0qbxneTZo21g"
      },
      "source": [
        "#Option 1 : Cyclical learning rate & Exponential learning rate\n",
        "lr_schedule=tfa.optimizers.CyclicalLearningRate(\n",
        "    initial_learning_rate=0.001,\n",
        "    maximal_learning_rate=0.005,\n",
        "    step_size= 1760,\n",
        "    scale_fn= lambda x: 1,\n",
        "    scale_mode = 'cycle',\n",
        "    name = 'CyclicalLearningRate'\n",
        ")\n",
        "lr_schedule_exponential=tf.keras.optimizers.schedules.ExponentialDecay(\n",
        "    initial_learning_rate=0.1,\n",
        "    decay_steps=1760,\n",
        "    decay_rate=0.0005,\n",
        "    staircase=True)"
      ],
      "execution_count": 150,
      "outputs": []
    },
    {
      "cell_type": "code",
      "metadata": {
        "id": "OanrLaE3qzG4"
      },
      "source": [
        "model.compile(optimizer=optimizers.SGD(learning_rate=lr_schedule), loss='categorical_crossentropy', metrics=['accuracy'])"
      ],
      "execution_count": 151,
      "outputs": []
    },
    {
      "cell_type": "code",
      "metadata": {
        "colab": {
          "base_uri": "https://localhost:8080/"
        },
        "id": "Fg0aeJpErD9a",
        "outputId": "7653c160-e4e2-4b7c-ff1c-3c7726ad5ddd"
      },
      "source": [
        "t0=time.process_time()\n",
        "history = model.fit(\n",
        "          train_ds, epochs=10, \n",
        "          validation_data=val_ds,\n",
        ")\n",
        "print(\"training time:\",time.process_time()-t0)"
      ],
      "execution_count": 152,
      "outputs": [
        {
          "output_type": "stream",
          "text": [
            "Epoch 1/10\n",
            "352/352 [==============================] - 9s 19ms/step - loss: 0.5339 - accuracy: 0.8105 - val_loss: 1.0832 - val_accuracy: 0.6744\n",
            "Epoch 2/10\n",
            "352/352 [==============================] - 6s 18ms/step - loss: 0.4331 - accuracy: 0.8465 - val_loss: 1.0437 - val_accuracy: 0.6842\n",
            "Epoch 3/10\n",
            "352/352 [==============================] - 6s 17ms/step - loss: 0.3846 - accuracy: 0.8664 - val_loss: 1.0378 - val_accuracy: 0.6886\n",
            "Epoch 4/10\n",
            "352/352 [==============================] - 6s 17ms/step - loss: 0.3483 - accuracy: 0.8824 - val_loss: 1.0487 - val_accuracy: 0.6890\n",
            "Epoch 5/10\n",
            "352/352 [==============================] - 6s 17ms/step - loss: 0.3181 - accuracy: 0.8943 - val_loss: 1.0615 - val_accuracy: 0.6906\n",
            "Epoch 6/10\n",
            "352/352 [==============================] - 6s 17ms/step - loss: 0.2920 - accuracy: 0.9041 - val_loss: 1.0669 - val_accuracy: 0.6916\n",
            "Epoch 7/10\n",
            "352/352 [==============================] - 6s 17ms/step - loss: 0.2695 - accuracy: 0.9140 - val_loss: 1.0845 - val_accuracy: 0.6938\n",
            "Epoch 8/10\n",
            "352/352 [==============================] - 6s 17ms/step - loss: 0.2538 - accuracy: 0.9195 - val_loss: 1.0829 - val_accuracy: 0.6966\n",
            "Epoch 9/10\n",
            "352/352 [==============================] - 6s 17ms/step - loss: 0.2428 - accuracy: 0.9252 - val_loss: 1.0840 - val_accuracy: 0.6998\n",
            "Epoch 10/10\n",
            "352/352 [==============================] - 6s 17ms/step - loss: 0.2358 - accuracy: 0.9280 - val_loss: 1.0872 - val_accuracy: 0.6982\n",
            "training time: 68.221535916\n"
          ],
          "name": "stdout"
        }
      ]
    },
    {
      "cell_type": "code",
      "metadata": {
        "id": "C4Mc5-aKI-Lk"
      },
      "source": [
        "model.compile(optimizer=optimizers.SGD(learning_rate=lr_schedule_exponential), loss='categorical_crossentropy', metrics=['accuracy'])"
      ],
      "execution_count": 153,
      "outputs": []
    },
    {
      "cell_type": "code",
      "metadata": {
        "colab": {
          "base_uri": "https://localhost:8080/"
        },
        "id": "QdcYpiI7JChB",
        "outputId": "61df3d36-2ad3-4ac8-98a3-15d319a192be"
      },
      "source": [
        "t0=time.process_time()\n",
        "history = model.fit(\n",
        "          train_ds, epochs=10, \n",
        "          validation_data=val_ds,\n",
        ")\n",
        "print(\"training time:\",time.process_time()-t0)"
      ],
      "execution_count": 154,
      "outputs": [
        {
          "output_type": "stream",
          "text": [
            "Epoch 1/10\n",
            "352/352 [==============================] - 9s 19ms/step - loss: 1.2573 - accuracy: 0.6566 - val_loss: 2.3249 - val_accuracy: 0.4320\n",
            "Epoch 2/10\n",
            "352/352 [==============================] - 6s 17ms/step - loss: 0.5350 - accuracy: 0.8119 - val_loss: 2.2224 - val_accuracy: 0.4158\n",
            "Epoch 3/10\n",
            "352/352 [==============================] - 6s 17ms/step - loss: 0.3379 - accuracy: 0.8806 - val_loss: 1.4954 - val_accuracy: 0.6260\n",
            "Epoch 4/10\n",
            "352/352 [==============================] - 6s 18ms/step - loss: 0.2313 - accuracy: 0.9192 - val_loss: 1.8346 - val_accuracy: 0.5920\n",
            "Epoch 5/10\n",
            "352/352 [==============================] - 6s 17ms/step - loss: 0.2032 - accuracy: 0.9272 - val_loss: 2.1139 - val_accuracy: 0.5834\n",
            "Epoch 6/10\n",
            "352/352 [==============================] - 6s 17ms/step - loss: 0.3245 - accuracy: 0.8892 - val_loss: 1.5079 - val_accuracy: 0.6754\n",
            "Epoch 7/10\n",
            "352/352 [==============================] - 6s 17ms/step - loss: 0.3068 - accuracy: 0.8953 - val_loss: 1.4991 - val_accuracy: 0.6794\n",
            "Epoch 8/10\n",
            "352/352 [==============================] - 6s 17ms/step - loss: 0.2937 - accuracy: 0.9001 - val_loss: 1.4890 - val_accuracy: 0.6838\n",
            "Epoch 9/10\n",
            "352/352 [==============================] - 6s 17ms/step - loss: 0.2826 - accuracy: 0.9035 - val_loss: 1.4809 - val_accuracy: 0.6842\n",
            "Epoch 10/10\n",
            "352/352 [==============================] - 6s 17ms/step - loss: 0.2732 - accuracy: 0.9058 - val_loss: 1.4740 - val_accuracy: 0.6858\n",
            "training time: 68.06740270800037\n"
          ],
          "name": "stdout"
        }
      ]
    },
    {
      "cell_type": "markdown",
      "metadata": {
        "id": "C8cKfAOjpn7c"
      },
      "source": [
        "### Task 2.3 Performance comparison\n",
        "\n",
        "*(weight ~3%)*\n",
        "\n",
        "Based on the above experiments, which method or which combination of methods result in the best accuracy with the same training time."
      ]
    },
    {
      "cell_type": "markdown",
      "metadata": {
        "id": "m4yTAhhGMPuy"
      },
      "source": [
        "Accuracy wise, model with cyclical learning rate performed better than exponential decay, whereas exponential performed better training time wise and the accuracy is almost similar to cyclical. So exponential decay set as learning rate schedule is better. \n",
        "\n",
        "Comparing to model using fixed learning, there is much improvement in training time which indicates that in deeper model or using more epoch, this learning rate scheduling will be a huge beneficial computationally and accuracy wise."
      ]
    },
    {
      "cell_type": "markdown",
      "metadata": {
        "id": "eWQm8ZfBxDH9"
      },
      "source": [
        "## Task 3 (**HD level task**) Research on new models\n",
        "*(weight ~10%)*\n",
        "\n",
        "Today, ResNet has become a very mature ConvNet architecture. In this task, you will research one recent ConvNet architecture. You may choose an architecture from the reference list below.\n",
        "\n",
        "Write a short report for your research, covering these points:\n",
        "\n",
        "- Identify the main issues that your chosen architecture aims to address. (For example, does it try to reduce the number of parameters or to speed up the training?)\n",
        "- What measures the architecture used to reduce the number of parameters, or reducing the training cost, or improving the model performance?\n",
        "\n",
        "Implement the architecture and compare its performance on CIFAR10 with ResNet. You may include your implementation, experiments, and analyses here in this notebook.\n",
        "\n",
        "**References**:\n",
        "\n",
        "1. Huang G, Liu Z, Van Der Maaten L, Weinberger KQ. *Densely connected convolutional networks*. In Proceedings of the IEEE conference on computer vision and pattern recognition 2017 (pp. 4700-4708).\n",
        "2. Zhang X, Zhou X, Lin M, Sun J. *Shufflenet: An extremely efficient convolutional neural network for mobile devices*. In Proceedings of the IEEE conference on computer vision and pattern recognition 2018 (pp. 6848-6856).\n",
        "3. Tan M, Le Q. *Efficientnet: Rethinking model scaling for convolutional neural networks*. In International Conference on Machine Learning 2019 May 24 (pp. 6105-6114). PMLR.\n",
        "4. Hu J, Shen L, Sun G. *Squeeze-and-excitation networks*. In Proceedings of the IEEE conference on computer vision and pattern recognition 2018 (pp. 7132-7141).\n"
      ]
    },
    {
      "cell_type": "markdown",
      "metadata": {
        "id": "6_Gu7OYnCDRx"
      },
      "source": [
        "  #                            **DenseNets**\n",
        "In recent years, it is observed that convulational networks can be have very deep layers. But the issue associated with such network is that it has high risk of vanishing gradient, computationally expensive due to high parameters. Taking such issues in consideration, Huang G et.al developed a model called ***DenseNets***. As the name suggests, the special feature of this model is that connects each layer to every other layer in a feed-forward step i.e. for each layer the feature-maps of all preceding layers are used as inputs, and it's own feature-maps as inputs into all subsequent layers.\n",
        "\n",
        "One positive side-effect of this denseNet is that unlike traditional CNN models, it requires fewer parameters to trained as it keeps the informations to be preserved from previous layer. Besides parameter efficiency, the model has improved flow of information and gradient throughout the network which makes it easy to train. It is also observed that dense connections have a regularizing which helps in overcoming the overfitting issues with smaller training sizes. \n",
        "\n",
        "This model is similar to ResNets, except that the DenseNets use concatenation method for feature maps, whereas ResNets used summation. Inception model also used concatenation method but, DenseNets are simpler and more efficient.One of the top variants of DenseNets model is the one using bottleneck layers whose function is to reduce number of input feature-maps to improve computational efficiency. \n",
        "\n",
        "It's mentioned in the original paper published for this model that with substantially less parameters compared to other state-of-the-art model like ResNets, it produces comparable accuracy. Thus, this model has achieved to gain advantage using parameter efficiency, and computationally cheaper than other state-of-the-art models.\n",
        "\n",
        "\n"
      ]
    },
    {
      "cell_type": "code",
      "metadata": {
        "id": "9WoEMxpjMM3X"
      },
      "source": [
        "import numpy as np\n",
        "import tensorflow as tf\n",
        "from tensorflow.keras import Model\n",
        "from tensorflow.keras.layers import Input, ZeroPadding2D, Dense, Dropout, Activation, Convolution2D, Reshape\n",
        "from tensorflow.keras.layers import AveragePooling2D, GlobalAveragePooling2D, MaxPooling2D, BatchNormalization"
      ],
      "execution_count": 101,
      "outputs": []
    },
    {
      "cell_type": "code",
      "metadata": {
        "id": "ADDVOuAmOYBp"
      },
      "source": [
        "def conv_block(x, stage, branch, nb_filter, dropout_rate=None):\n",
        "    conv_name_base = 'conv' + str(stage) + '_' + str(branch)\n",
        "    relu_name_base = 'relu' + str(stage) + '_' + str(branch)\n",
        "\n",
        "    # 1x1 Convolution (Bottleneck layer)\n",
        "    inter_channel = nb_filter * 4  \n",
        "    x = BatchNormalization(name=conv_name_base+'_x1_bn')(x)\n",
        "    x = Activation('relu', name=relu_name_base+'_x1')(x)\n",
        "    x = Convolution2D(inter_channel, 1, 1, name=conv_name_base+'_x1', use_bias=False)(x)\n",
        "\n",
        "    if dropout_rate:\n",
        "        x = Dropout(dropout_rate)(x)\n",
        "\n",
        "    # 3x3 Convolution\n",
        "    x = BatchNormalization(name=conv_name_base+'_x2_bn')(x)\n",
        "    x = Activation('relu', name=relu_name_base+'_x2')(x)\n",
        "    x = ZeroPadding2D((1, 1), name=conv_name_base+'_x2_zeropadding')(x)\n",
        "    x = Convolution2D(nb_filter, 3, 1, name=conv_name_base+'_x2', use_bias=False)(x)\n",
        "\n",
        "    if dropout_rate:\n",
        "        x = Dropout(dropout_rate)(x)\n",
        "    return x"
      ],
      "execution_count": 102,
      "outputs": []
    },
    {
      "cell_type": "code",
      "metadata": {
        "id": "-QWpXXUCVfbE"
      },
      "source": [
        "def se_block(x, stage, previous, nb_filter, ratio = 16):\n",
        "    se_name = 'se' + str(stage) + '_' + previous\n",
        "    init = x\n",
        "    x = GlobalAveragePooling2D(name='global_average_pooling_2d_'+se_name)(x)\n",
        "    x = Dense(nb_filter // ratio, name='dense_relu_'+se_name)(x)\n",
        "    x = Activation('relu', name='relu_'+se_name)(x)\n",
        "    x = Dense(nb_filter, name='dense_sigmoid_'+se_name)(x)\n",
        "    x = Activation('sigmoid', name='sigmoid_'+se_name)(x)\n",
        "    x = tf.expand_dims(x,1)\n",
        "    x = init * tf.expand_dims(x,1) \n",
        "    return x"
      ],
      "execution_count": 103,
      "outputs": []
    },
    {
      "cell_type": "code",
      "metadata": {
        "id": "yiLZQMYSViTC"
      },
      "source": [
        "def dense_block(x, stage, nb_layers, nb_filter, growth_rate, dropout_rate=None, \n",
        "                grow_nb_filters=True):\n",
        "    concat_feat = x\n",
        "    for i in range(nb_layers):\n",
        "        branch = i+1\n",
        "        x = conv_block(concat_feat, stage, branch, growth_rate, dropout_rate)\n",
        "        concat_feat = tf.concat([concat_feat, x], -1)\n",
        "\n",
        "        if grow_nb_filters:\n",
        "            nb_filter += growth_rate\n",
        "\n",
        "    return concat_feat, nb_filter"
      ],
      "execution_count": 104,
      "outputs": []
    },
    {
      "cell_type": "code",
      "metadata": {
        "id": "IxrMl4EhVlVd"
      },
      "source": [
        "def transition_block(x, stage, nb_filter, compression=1.0, dropout_rate=None):\n",
        "    conv_name_base = 'conv' + str(stage) + '_blk'\n",
        "    relu_name_base = 'relu' + str(stage) + '_blk'\n",
        "    pool_name_base = 'pool' + str(stage) \n",
        "\n",
        "    x = BatchNormalization(name=conv_name_base+'_bn')(x)\n",
        "    x = Activation('relu', name=relu_name_base)(x)\n",
        "    x = Convolution2D(int(nb_filter * compression), 1, 1, name=conv_name_base, use_bias=False)(x)\n",
        "\n",
        "    if dropout_rate:\n",
        "        x = Dropout(dropout_rate)(x)\n",
        "\n",
        "    x = AveragePooling2D((2, 2), strides=(2, 2), name=pool_name_base)(x)\n",
        "\n",
        "    return x"
      ],
      "execution_count": 105,
      "outputs": []
    },
    {
      "cell_type": "code",
      "metadata": {
        "id": "b3bsrH04VoQQ"
      },
      "source": [
        "# For DenseNet-121\n",
        "def densenet_model(growth_rate=24, nb_filter=64, nb_layers = [6,12,24,16], reduction=0.0, \n",
        "                   dropout_rate=0.0, classes=10, shape=(32, 32, 3), batch_size=128,\n",
        "                   with_output_block=True, with_se_layers=True):\n",
        "    # compute compression factor\n",
        "    compression = 1.0 - reduction\n",
        "\n",
        "    nb_dense_block = len(nb_layers)\n",
        "    # From architecture for ImageNet (Table 1 in the paper)\n",
        "    # nb_filter = 64\n",
        "    # nb_layers = [6,12,24,16] # For DenseNet-121\n",
        "    \n",
        "    img_input = Input(shape=shape, name='data')\n",
        "    \n",
        "    x = ZeroPadding2D((3, 3), name='conv1_zeropadding', batch_size=batch_size)(img_input)\n",
        "    x = Convolution2D(nb_filter, 7, 2, name='conv1', use_bias=False)(x)\n",
        "    x = BatchNormalization(name='conv1_bn')(x)\n",
        "    x = Activation('relu', name='relu1')(x)\n",
        "    x = ZeroPadding2D((1, 1), name='pool1_zeropadding')(x)\n",
        "    x = MaxPooling2D((3, 3), strides=(2, 2), name='pool1')(x)\n",
        "    \n",
        "    stage = 0\n",
        "    # Add dense blocks\n",
        "    for block_idx in range(nb_dense_block - 1):\n",
        "        stage = block_idx+2\n",
        "        x, nb_filter = dense_block(x, stage, nb_layers[block_idx], nb_filter, growth_rate, dropout_rate=dropout_rate)\n",
        "\n",
        "        if with_se_layers:\n",
        "            x = se_block(x, stage, 'dense', nb_filter)\n",
        "\n",
        "        # Add transition_block\n",
        "        x = transition_block(x, stage, nb_filter, compression=compression, dropout_rate=dropout_rate)\n",
        "        nb_filter = int(nb_filter * compression)\n",
        "\n",
        "        if with_se_layers:\n",
        "            x = se_block(x, stage, 'transition', nb_filter)\n",
        "\n",
        "    final_stage = stage + 1\n",
        "    x, nb_filter = dense_block(x, final_stage, nb_layers[-1], nb_filter, growth_rate, dropout_rate=dropout_rate)\n",
        "\n",
        "    if with_se_layers:\n",
        "        x = se_block(x, final_stage, 'dense', nb_filter)\n",
        "\n",
        "    x = BatchNormalization(name='conv_final_blk_bn')(x)\n",
        "    x = Activation('relu', name='relu_final_blk')(x)\n",
        "    \n",
        "    if not with_output_block:\n",
        "        return Model(inputs=img_input, outputs=x)\n",
        "\n",
        "    x = GlobalAveragePooling2D(name='pool_final')(x)\n",
        "    x = Dense(classes, name='fc6')(x)\n",
        "    output = Activation('softmax', name='prob')(x)\n",
        "    \n",
        "    return Model(inputs=img_input, outputs=output)"
      ],
      "execution_count": 158,
      "outputs": []
    },
    {
      "cell_type": "code",
      "metadata": {
        "id": "7xhuLCfFVujq"
      },
      "source": [
        "model=densenet_model()"
      ],
      "execution_count": 159,
      "outputs": []
    },
    {
      "cell_type": "code",
      "metadata": {
        "id": "7OD0Fe0AV3bh"
      },
      "source": [
        "model.compile(optimizer=optimizers.Adam(), loss='categorical_crossentropy', metrics=['accuracy'])"
      ],
      "execution_count": 160,
      "outputs": []
    },
    {
      "cell_type": "code",
      "metadata": {
        "colab": {
          "base_uri": "https://localhost:8080/"
        },
        "id": "qm4YrEj8V6d2",
        "outputId": "40097b64-b2e9-4211-b8b2-12e5a6787290"
      },
      "source": [
        "t0=time.process_time()\n",
        "history = model.fit(\n",
        "          train_ds, epochs=10, \n",
        "          validation_data=val_ds,\n",
        ")\n",
        "print(\"training time:\",time.process_time()-t0)"
      ],
      "execution_count": 161,
      "outputs": [
        {
          "output_type": "stream",
          "text": [
            "Epoch 1/10\n",
            "352/352 [==============================] - 44s 92ms/step - loss: 1.6788 - accuracy: 0.4165 - val_loss: 1.8189 - val_accuracy: 0.3582\n",
            "Epoch 2/10\n",
            "352/352 [==============================] - 30s 85ms/step - loss: 1.0848 - accuracy: 0.6184 - val_loss: 1.6941 - val_accuracy: 0.4244\n",
            "Epoch 3/10\n",
            "352/352 [==============================] - 30s 86ms/step - loss: 0.8619 - accuracy: 0.6959 - val_loss: 1.2498 - val_accuracy: 0.5618\n",
            "Epoch 4/10\n",
            "352/352 [==============================] - 30s 85ms/step - loss: 0.7107 - accuracy: 0.7480 - val_loss: 1.4641 - val_accuracy: 0.5192\n",
            "Epoch 5/10\n",
            "352/352 [==============================] - 30s 85ms/step - loss: 0.5920 - accuracy: 0.7901 - val_loss: 1.3755 - val_accuracy: 0.5688\n",
            "Epoch 6/10\n",
            "352/352 [==============================] - 30s 85ms/step - loss: 0.4908 - accuracy: 0.8285 - val_loss: 2.0423 - val_accuracy: 0.5146\n",
            "Epoch 7/10\n",
            "352/352 [==============================] - 30s 86ms/step - loss: 0.4150 - accuracy: 0.8523 - val_loss: 2.2151 - val_accuracy: 0.5168\n",
            "Epoch 8/10\n",
            "352/352 [==============================] - 30s 85ms/step - loss: 0.3475 - accuracy: 0.8742 - val_loss: 1.6236 - val_accuracy: 0.5684\n",
            "Epoch 9/10\n",
            "352/352 [==============================] - 30s 85ms/step - loss: 0.2747 - accuracy: 0.9020 - val_loss: 1.6971 - val_accuracy: 0.5988\n",
            "Epoch 10/10\n",
            "352/352 [==============================] - 30s 85ms/step - loss: 0.2360 - accuracy: 0.9161 - val_loss: 2.1066 - val_accuracy: 0.5700\n",
            "training time: 329.2287598110006\n"
          ],
          "name": "stdout"
        }
      ]
    },
    {
      "cell_type": "markdown",
      "metadata": {
        "id": "yxVBLF2gV-VP"
      },
      "source": [
        "This above model is 6-7 times deeper than above ResNet32 model. The model is able to reduce training time than as it should have been comparing to ResNet32 i.e. 500-600 secs.\n",
        "\n",
        "The experiment is conducted using same hyperparameter in both model."
      ]
    },
    {
      "cell_type": "markdown",
      "metadata": {
        "id": "hUV0wuZ01DNA"
      },
      "source": [
        "---\n",
        "**END OF ASSIGNMENT TWO**"
      ]
    }
  ]
}